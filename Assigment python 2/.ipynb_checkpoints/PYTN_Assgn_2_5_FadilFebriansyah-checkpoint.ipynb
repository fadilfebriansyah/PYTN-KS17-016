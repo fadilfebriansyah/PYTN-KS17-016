{
 "cells": [
  {
   "cell_type": "markdown",
   "id": "ed60dd4e",
   "metadata": {},
   "source": [
    "# Statistical Treatment for Retail Datasets (NYC Property Sales)\n",
    "\n",
    "\n",
    "Kumpulan data yang disebutkan adalah catatan tentang properti yang terjual di Kota New York selama periode 12 bulan. Data ini mencakup informasi seperti lokasi, alamat, tipe properti, harga jual, dan tanggal penjualan unit bangunan.Data download dari kaggle \n",
    "\n",
    "`link` : https://www.kaggle.com/datasets/new-york-city/nyc-property-sales"
   ]
  },
  {
   "cell_type": "markdown",
   "id": "ac334343",
   "metadata": {},
   "source": [
    "## Import library yang dibutuhkan"
   ]
  },
  {
   "cell_type": "code",
   "execution_count": 2,
   "id": "18f9aa3e",
   "metadata": {},
   "outputs": [],
   "source": [
    "import numpy as np\n",
    "import pandas as pd \n",
    "import matplotlib as mpl\n",
    "import matplotlib.pyplot as plt\n",
    "%matplotlib inline\n",
    "import math\n",
    "import statistics\n",
    "import scipy.stats\n",
    "import seaborn as sns\n",
    "import statsmodels.api as sm\n",
    "from IPython.display import Math, Latex\n",
    "from IPython.core.display import Image"
   ]
  },
  {
   "cell_type": "markdown",
   "id": "ec9467d4",
   "metadata": {},
   "source": [
    "## Membaca datasets"
   ]
  },
  {
   "cell_type": "code",
   "execution_count": 3,
   "id": "bd18589a",
   "metadata": {},
   "outputs": [
    {
     "data": {
      "text/html": [
       "<div>\n",
       "<style scoped>\n",
       "    .dataframe tbody tr th:only-of-type {\n",
       "        vertical-align: middle;\n",
       "    }\n",
       "\n",
       "    .dataframe tbody tr th {\n",
       "        vertical-align: top;\n",
       "    }\n",
       "\n",
       "    .dataframe thead th {\n",
       "        text-align: right;\n",
       "    }\n",
       "</style>\n",
       "<table border=\"1\" class=\"dataframe\">\n",
       "  <thead>\n",
       "    <tr style=\"text-align: right;\">\n",
       "      <th></th>\n",
       "      <th>Unnamed: 0</th>\n",
       "      <th>BOROUGH</th>\n",
       "      <th>NEIGHBORHOOD</th>\n",
       "      <th>BUILDING CLASS CATEGORY</th>\n",
       "      <th>TAX CLASS AT PRESENT</th>\n",
       "      <th>BLOCK</th>\n",
       "      <th>LOT</th>\n",
       "      <th>EASE-MENT</th>\n",
       "      <th>BUILDING CLASS AT PRESENT</th>\n",
       "      <th>ADDRESS</th>\n",
       "      <th>...</th>\n",
       "      <th>RESIDENTIAL UNITS</th>\n",
       "      <th>COMMERCIAL UNITS</th>\n",
       "      <th>TOTAL UNITS</th>\n",
       "      <th>LAND SQUARE FEET</th>\n",
       "      <th>GROSS SQUARE FEET</th>\n",
       "      <th>YEAR BUILT</th>\n",
       "      <th>TAX CLASS AT TIME OF SALE</th>\n",
       "      <th>BUILDING CLASS AT TIME OF SALE</th>\n",
       "      <th>SALE PRICE</th>\n",
       "      <th>SALE DATE</th>\n",
       "    </tr>\n",
       "  </thead>\n",
       "  <tbody>\n",
       "    <tr>\n",
       "      <th>0</th>\n",
       "      <td>4</td>\n",
       "      <td>1</td>\n",
       "      <td>ALPHABET CITY</td>\n",
       "      <td>07 RENTALS - WALKUP APARTMENTS</td>\n",
       "      <td>2A</td>\n",
       "      <td>392</td>\n",
       "      <td>6</td>\n",
       "      <td></td>\n",
       "      <td>C2</td>\n",
       "      <td>153 AVENUE B</td>\n",
       "      <td>...</td>\n",
       "      <td>5</td>\n",
       "      <td>0</td>\n",
       "      <td>5</td>\n",
       "      <td>1633</td>\n",
       "      <td>6440</td>\n",
       "      <td>1900</td>\n",
       "      <td>2</td>\n",
       "      <td>C2</td>\n",
       "      <td>6625000</td>\n",
       "      <td>2017-07-19 00:00:00</td>\n",
       "    </tr>\n",
       "    <tr>\n",
       "      <th>1</th>\n",
       "      <td>5</td>\n",
       "      <td>1</td>\n",
       "      <td>ALPHABET CITY</td>\n",
       "      <td>07 RENTALS - WALKUP APARTMENTS</td>\n",
       "      <td>2</td>\n",
       "      <td>399</td>\n",
       "      <td>26</td>\n",
       "      <td></td>\n",
       "      <td>C7</td>\n",
       "      <td>234 EAST 4TH   STREET</td>\n",
       "      <td>...</td>\n",
       "      <td>28</td>\n",
       "      <td>3</td>\n",
       "      <td>31</td>\n",
       "      <td>4616</td>\n",
       "      <td>18690</td>\n",
       "      <td>1900</td>\n",
       "      <td>2</td>\n",
       "      <td>C7</td>\n",
       "      <td>-</td>\n",
       "      <td>2016-12-14 00:00:00</td>\n",
       "    </tr>\n",
       "    <tr>\n",
       "      <th>2</th>\n",
       "      <td>6</td>\n",
       "      <td>1</td>\n",
       "      <td>ALPHABET CITY</td>\n",
       "      <td>07 RENTALS - WALKUP APARTMENTS</td>\n",
       "      <td>2</td>\n",
       "      <td>399</td>\n",
       "      <td>39</td>\n",
       "      <td></td>\n",
       "      <td>C7</td>\n",
       "      <td>197 EAST 3RD   STREET</td>\n",
       "      <td>...</td>\n",
       "      <td>16</td>\n",
       "      <td>1</td>\n",
       "      <td>17</td>\n",
       "      <td>2212</td>\n",
       "      <td>7803</td>\n",
       "      <td>1900</td>\n",
       "      <td>2</td>\n",
       "      <td>C7</td>\n",
       "      <td>-</td>\n",
       "      <td>2016-12-09 00:00:00</td>\n",
       "    </tr>\n",
       "    <tr>\n",
       "      <th>3</th>\n",
       "      <td>7</td>\n",
       "      <td>1</td>\n",
       "      <td>ALPHABET CITY</td>\n",
       "      <td>07 RENTALS - WALKUP APARTMENTS</td>\n",
       "      <td>2B</td>\n",
       "      <td>402</td>\n",
       "      <td>21</td>\n",
       "      <td></td>\n",
       "      <td>C4</td>\n",
       "      <td>154 EAST 7TH STREET</td>\n",
       "      <td>...</td>\n",
       "      <td>10</td>\n",
       "      <td>0</td>\n",
       "      <td>10</td>\n",
       "      <td>2272</td>\n",
       "      <td>6794</td>\n",
       "      <td>1913</td>\n",
       "      <td>2</td>\n",
       "      <td>C4</td>\n",
       "      <td>3936272</td>\n",
       "      <td>2016-09-23 00:00:00</td>\n",
       "    </tr>\n",
       "    <tr>\n",
       "      <th>4</th>\n",
       "      <td>8</td>\n",
       "      <td>1</td>\n",
       "      <td>ALPHABET CITY</td>\n",
       "      <td>07 RENTALS - WALKUP APARTMENTS</td>\n",
       "      <td>2A</td>\n",
       "      <td>404</td>\n",
       "      <td>55</td>\n",
       "      <td></td>\n",
       "      <td>C2</td>\n",
       "      <td>301 EAST 10TH   STREET</td>\n",
       "      <td>...</td>\n",
       "      <td>6</td>\n",
       "      <td>0</td>\n",
       "      <td>6</td>\n",
       "      <td>2369</td>\n",
       "      <td>4615</td>\n",
       "      <td>1900</td>\n",
       "      <td>2</td>\n",
       "      <td>C2</td>\n",
       "      <td>8000000</td>\n",
       "      <td>2016-11-17 00:00:00</td>\n",
       "    </tr>\n",
       "    <tr>\n",
       "      <th>...</th>\n",
       "      <td>...</td>\n",
       "      <td>...</td>\n",
       "      <td>...</td>\n",
       "      <td>...</td>\n",
       "      <td>...</td>\n",
       "      <td>...</td>\n",
       "      <td>...</td>\n",
       "      <td>...</td>\n",
       "      <td>...</td>\n",
       "      <td>...</td>\n",
       "      <td>...</td>\n",
       "      <td>...</td>\n",
       "      <td>...</td>\n",
       "      <td>...</td>\n",
       "      <td>...</td>\n",
       "      <td>...</td>\n",
       "      <td>...</td>\n",
       "      <td>...</td>\n",
       "      <td>...</td>\n",
       "      <td>...</td>\n",
       "      <td>...</td>\n",
       "    </tr>\n",
       "    <tr>\n",
       "      <th>84543</th>\n",
       "      <td>8409</td>\n",
       "      <td>5</td>\n",
       "      <td>WOODROW</td>\n",
       "      <td>02 TWO FAMILY DWELLINGS</td>\n",
       "      <td>1</td>\n",
       "      <td>7349</td>\n",
       "      <td>34</td>\n",
       "      <td></td>\n",
       "      <td>B9</td>\n",
       "      <td>37 QUAIL LANE</td>\n",
       "      <td>...</td>\n",
       "      <td>2</td>\n",
       "      <td>0</td>\n",
       "      <td>2</td>\n",
       "      <td>2400</td>\n",
       "      <td>2575</td>\n",
       "      <td>1998</td>\n",
       "      <td>1</td>\n",
       "      <td>B9</td>\n",
       "      <td>450000</td>\n",
       "      <td>2016-11-28 00:00:00</td>\n",
       "    </tr>\n",
       "    <tr>\n",
       "      <th>84544</th>\n",
       "      <td>8410</td>\n",
       "      <td>5</td>\n",
       "      <td>WOODROW</td>\n",
       "      <td>02 TWO FAMILY DWELLINGS</td>\n",
       "      <td>1</td>\n",
       "      <td>7349</td>\n",
       "      <td>78</td>\n",
       "      <td></td>\n",
       "      <td>B9</td>\n",
       "      <td>32 PHEASANT LANE</td>\n",
       "      <td>...</td>\n",
       "      <td>2</td>\n",
       "      <td>0</td>\n",
       "      <td>2</td>\n",
       "      <td>2498</td>\n",
       "      <td>2377</td>\n",
       "      <td>1998</td>\n",
       "      <td>1</td>\n",
       "      <td>B9</td>\n",
       "      <td>550000</td>\n",
       "      <td>2017-04-21 00:00:00</td>\n",
       "    </tr>\n",
       "    <tr>\n",
       "      <th>84545</th>\n",
       "      <td>8411</td>\n",
       "      <td>5</td>\n",
       "      <td>WOODROW</td>\n",
       "      <td>02 TWO FAMILY DWELLINGS</td>\n",
       "      <td>1</td>\n",
       "      <td>7351</td>\n",
       "      <td>60</td>\n",
       "      <td></td>\n",
       "      <td>B2</td>\n",
       "      <td>49 PITNEY AVENUE</td>\n",
       "      <td>...</td>\n",
       "      <td>2</td>\n",
       "      <td>0</td>\n",
       "      <td>2</td>\n",
       "      <td>4000</td>\n",
       "      <td>1496</td>\n",
       "      <td>1925</td>\n",
       "      <td>1</td>\n",
       "      <td>B2</td>\n",
       "      <td>460000</td>\n",
       "      <td>2017-07-05 00:00:00</td>\n",
       "    </tr>\n",
       "    <tr>\n",
       "      <th>84546</th>\n",
       "      <td>8412</td>\n",
       "      <td>5</td>\n",
       "      <td>WOODROW</td>\n",
       "      <td>22 STORE BUILDINGS</td>\n",
       "      <td>4</td>\n",
       "      <td>7100</td>\n",
       "      <td>28</td>\n",
       "      <td></td>\n",
       "      <td>K6</td>\n",
       "      <td>2730 ARTHUR KILL ROAD</td>\n",
       "      <td>...</td>\n",
       "      <td>0</td>\n",
       "      <td>7</td>\n",
       "      <td>7</td>\n",
       "      <td>208033</td>\n",
       "      <td>64117</td>\n",
       "      <td>2001</td>\n",
       "      <td>4</td>\n",
       "      <td>K6</td>\n",
       "      <td>11693337</td>\n",
       "      <td>2016-12-21 00:00:00</td>\n",
       "    </tr>\n",
       "    <tr>\n",
       "      <th>84547</th>\n",
       "      <td>8413</td>\n",
       "      <td>5</td>\n",
       "      <td>WOODROW</td>\n",
       "      <td>35 INDOOR PUBLIC AND CULTURAL FACILITIES</td>\n",
       "      <td>4</td>\n",
       "      <td>7105</td>\n",
       "      <td>679</td>\n",
       "      <td></td>\n",
       "      <td>P9</td>\n",
       "      <td>155 CLAY PIT ROAD</td>\n",
       "      <td>...</td>\n",
       "      <td>0</td>\n",
       "      <td>1</td>\n",
       "      <td>1</td>\n",
       "      <td>10796</td>\n",
       "      <td>2400</td>\n",
       "      <td>2006</td>\n",
       "      <td>4</td>\n",
       "      <td>P9</td>\n",
       "      <td>69300</td>\n",
       "      <td>2016-10-27 00:00:00</td>\n",
       "    </tr>\n",
       "  </tbody>\n",
       "</table>\n",
       "<p>84548 rows × 22 columns</p>\n",
       "</div>"
      ],
      "text/plain": [
       "       Unnamed: 0  BOROUGH   NEIGHBORHOOD  \\\n",
       "0               4        1  ALPHABET CITY   \n",
       "1               5        1  ALPHABET CITY   \n",
       "2               6        1  ALPHABET CITY   \n",
       "3               7        1  ALPHABET CITY   \n",
       "4               8        1  ALPHABET CITY   \n",
       "...           ...      ...            ...   \n",
       "84543        8409        5        WOODROW   \n",
       "84544        8410        5        WOODROW   \n",
       "84545        8411        5        WOODROW   \n",
       "84546        8412        5        WOODROW   \n",
       "84547        8413        5        WOODROW   \n",
       "\n",
       "                           BUILDING CLASS CATEGORY TAX CLASS AT PRESENT  \\\n",
       "0      07 RENTALS - WALKUP APARTMENTS                                2A   \n",
       "1      07 RENTALS - WALKUP APARTMENTS                                 2   \n",
       "2      07 RENTALS - WALKUP APARTMENTS                                 2   \n",
       "3      07 RENTALS - WALKUP APARTMENTS                                2B   \n",
       "4      07 RENTALS - WALKUP APARTMENTS                                2A   \n",
       "...                                            ...                  ...   \n",
       "84543  02 TWO FAMILY DWELLINGS                                        1   \n",
       "84544  02 TWO FAMILY DWELLINGS                                        1   \n",
       "84545  02 TWO FAMILY DWELLINGS                                        1   \n",
       "84546  22 STORE BUILDINGS                                             4   \n",
       "84547  35 INDOOR PUBLIC AND CULTURAL FACILITIES                       4   \n",
       "\n",
       "       BLOCK  LOT EASE-MENT BUILDING CLASS AT PRESENT                 ADDRESS  \\\n",
       "0        392    6                                  C2            153 AVENUE B   \n",
       "1        399   26                                  C7   234 EAST 4TH   STREET   \n",
       "2        399   39                                  C7   197 EAST 3RD   STREET   \n",
       "3        402   21                                  C4     154 EAST 7TH STREET   \n",
       "4        404   55                                  C2  301 EAST 10TH   STREET   \n",
       "...      ...  ...       ...                       ...                     ...   \n",
       "84543   7349   34                                  B9           37 QUAIL LANE   \n",
       "84544   7349   78                                  B9        32 PHEASANT LANE   \n",
       "84545   7351   60                                  B2        49 PITNEY AVENUE   \n",
       "84546   7100   28                                  K6   2730 ARTHUR KILL ROAD   \n",
       "84547   7105  679                                  P9       155 CLAY PIT ROAD   \n",
       "\n",
       "       ... RESIDENTIAL UNITS  COMMERCIAL UNITS  TOTAL UNITS  LAND SQUARE FEET  \\\n",
       "0      ...                 5                 0            5              1633   \n",
       "1      ...                28                 3           31              4616   \n",
       "2      ...                16                 1           17              2212   \n",
       "3      ...                10                 0           10              2272   \n",
       "4      ...                 6                 0            6              2369   \n",
       "...    ...               ...               ...          ...               ...   \n",
       "84543  ...                 2                 0            2              2400   \n",
       "84544  ...                 2                 0            2              2498   \n",
       "84545  ...                 2                 0            2              4000   \n",
       "84546  ...                 0                 7            7            208033   \n",
       "84547  ...                 0                 1            1             10796   \n",
       "\n",
       "       GROSS SQUARE FEET YEAR BUILT TAX CLASS AT TIME OF SALE  \\\n",
       "0                   6440       1900                         2   \n",
       "1                  18690       1900                         2   \n",
       "2                   7803       1900                         2   \n",
       "3                   6794       1913                         2   \n",
       "4                   4615       1900                         2   \n",
       "...                  ...        ...                       ...   \n",
       "84543               2575       1998                         1   \n",
       "84544               2377       1998                         1   \n",
       "84545               1496       1925                         1   \n",
       "84546              64117       2001                         4   \n",
       "84547               2400       2006                         4   \n",
       "\n",
       "       BUILDING CLASS AT TIME OF SALE  SALE PRICE            SALE DATE  \n",
       "0                                  C2     6625000  2017-07-19 00:00:00  \n",
       "1                                  C7         -    2016-12-14 00:00:00  \n",
       "2                                  C7         -    2016-12-09 00:00:00  \n",
       "3                                  C4     3936272  2016-09-23 00:00:00  \n",
       "4                                  C2     8000000  2016-11-17 00:00:00  \n",
       "...                               ...         ...                  ...  \n",
       "84543                              B9      450000  2016-11-28 00:00:00  \n",
       "84544                              B9      550000  2017-04-21 00:00:00  \n",
       "84545                              B2      460000  2017-07-05 00:00:00  \n",
       "84546                              K6    11693337  2016-12-21 00:00:00  \n",
       "84547                              P9       69300  2016-10-27 00:00:00  \n",
       "\n",
       "[84548 rows x 22 columns]"
      ]
     },
     "execution_count": 3,
     "metadata": {},
     "output_type": "execute_result"
    }
   ],
   "source": [
    "dataframe = pd.read_csv('D:/Kuliah/Semester 7/Hacktiv8/Dataset/nyc-rolling-sales1.csv')\n",
    "dataframe"
   ]
  },
  {
   "cell_type": "markdown",
   "id": "b5721a4b",
   "metadata": {},
   "source": [
    "\n",
    "### Keterangan\n",
    "- `Borough` : kode digit untuk wilayah tempat properti yaitu (1)Manhattan, (2)Bronx, (3)Brooklyn, (4)Queens , dan (5)Staten Island\n",
    "- `Neighborhood` : assessor departemen keuangan menentukan nama lingkungan dalam proses menilai properti\n",
    "- `Building Class Category` : bidang yang disertakan agar pengguna Rolling Sales Files dapat dengan mudah mengidentifikasi properti serupa dengan penggunaan luas (mis. Rumah Satu Keluarga)\n",
    "- `Tax Class at Present` : setiap properti di kota ditetapkan ke salah satu dari empat kelas pajak (kelas 1, 2, 3, dan 4) berdasarkan penggunaan properti\n",
    "- `Block` : tax block adalah sub-divisi dari borough yang merupakan tempat properti sebenarnya berada\n",
    "- `Lot` : tax lot adalah subdivisi dari tax block dan mewakili lokasi unik properti\n",
    "- `Easement` : merupakan hak, seperti hak jalan yang memungkinkan entitas untuk menggunakan properti nyata orang lain secara terbatas\n",
    "- `Building Class at Present` : klasifikasi bangunan digunakan untuk menggambarkan penggunaan konstruktif properti saat ini\n",
    "- `Address` : alamat jalan properti seperti yang tercantum di file penjualan\n",
    "- `Zip Code` : kode pos properti\n",
    "- `Commercial Unit` : jumlah unit komersial di properti yang terdaftar\n",
    "- `Total Units` : jumlah total unit di properti yang terdaftar\n",
    "- `Land Square Feet` : luas tanah properti tercantum dalam kaki persegi\n",
    "- `Gross Square Feet` : luas total semua lantai bangunan yang diukur dari permukaan luar bangunan, termasuk luas tanah dan ruang di dalam setiap bangunan atau struktur di properti\n",
    "- `Year Built` : tahun bangunan di properti itu dibangun\n",
    "- `Building Class at Time of Sale` : klasifikasi bangunan digunakan untuk menggambarkan penggunaan konstruktif properti saat dijual\n",
    "- `Sales Price` : harga yang dibayarkan untuk properti\n",
    "- `Sale Date` : tanggal properti terjual"
   ]
  },
  {
   "cell_type": "markdown",
   "id": "251d4e01",
   "metadata": {},
   "source": [
    "## Data Cleaning & Data Preprocessing"
   ]
  },
  {
   "cell_type": "markdown",
   "id": "e9c8a5d6",
   "metadata": {},
   "source": [
    "Melihat kolom yang ada pada datasets"
   ]
  },
  {
   "cell_type": "code",
   "execution_count": 5,
   "id": "25544ae0",
   "metadata": {},
   "outputs": [
    {
     "data": {
      "text/plain": [
       "Index(['Unnamed: 0', 'BOROUGH', 'NEIGHBORHOOD', 'BUILDING CLASS CATEGORY',\n",
       "       'TAX CLASS AT PRESENT', 'BLOCK', 'LOT', 'EASE-MENT',\n",
       "       'BUILDING CLASS AT PRESENT', 'ADDRESS', 'APARTMENT NUMBER', 'ZIP CODE',\n",
       "       'RESIDENTIAL UNITS', 'COMMERCIAL UNITS', 'TOTAL UNITS',\n",
       "       'LAND SQUARE FEET', 'GROSS SQUARE FEET', 'YEAR BUILT',\n",
       "       'TAX CLASS AT TIME OF SALE', 'BUILDING CLASS AT TIME OF SALE',\n",
       "       'SALE PRICE', 'SALE DATE'],\n",
       "      dtype='object')"
      ]
     },
     "execution_count": 5,
     "metadata": {},
     "output_type": "execute_result"
    }
   ],
   "source": [
    "dataframe.columns"
   ]
  },
  {
   "cell_type": "markdown",
   "id": "f219f46c",
   "metadata": {},
   "source": [
    "Menghapus kolom yang tidak di perlukan"
   ]
  },
  {
   "cell_type": "code",
   "execution_count": 6,
   "id": "b5976903",
   "metadata": {},
   "outputs": [],
   "source": [
    "dataframe.drop([\"Unnamed: 0\", \"EASE-MENT\", \"APARTMENT NUMBER\", \"ADDRESS\", \"ZIP CODE\", \"BUILDING CLASS AT PRESENT\", \"BUILDING CLASS AT TIME OF SALE\"], axis=1, inplace=True)"
   ]
  },
  {
   "cell_type": "markdown",
   "id": "f658c78a",
   "metadata": {},
   "source": [
    "Merubah kode pada kolom `BOROUGH` menjadi nama wilayah sesuai keterangan"
   ]
  },
  {
   "cell_type": "code",
   "execution_count": 8,
   "id": "a5682a48",
   "metadata": {},
   "outputs": [],
   "source": [
    "dataframe['BOROUGH'] = dataframe.BOROUGH.replace({1:\"Manhattan\", 2:\"Bronx\", 3:\"Brooklyn\", 4:\"Queens\", 5:\"Staten Island\"})"
   ]
  },
  {
   "cell_type": "markdown",
   "id": "540656fe",
   "metadata": {},
   "source": [
    "Melihat kolom yang ada pada datasets"
   ]
  },
  {
   "cell_type": "code",
   "execution_count": 10,
   "id": "a87e05cc",
   "metadata": {},
   "outputs": [
    {
     "data": {
      "text/plain": [
       "Index(['BOROUGH', 'NEIGHBORHOOD', 'BUILDING CLASS CATEGORY',\n",
       "       'TAX CLASS AT PRESENT', 'BLOCK', 'LOT', 'RESIDENTIAL UNITS',\n",
       "       'COMMERCIAL UNITS', 'TOTAL UNITS', 'LAND SQUARE FEET',\n",
       "       'GROSS SQUARE FEET', 'YEAR BUILT', 'TAX CLASS AT TIME OF SALE',\n",
       "       'SALE PRICE', 'SALE DATE'],\n",
       "      dtype='object')"
      ]
     },
     "execution_count": 10,
     "metadata": {},
     "output_type": "execute_result"
    }
   ],
   "source": [
    "dataframe.columns"
   ]
  },
  {
   "cell_type": "markdown",
   "id": "9fa3fc03",
   "metadata": {},
   "source": [
    "Menampilkan 5 data teratas"
   ]
  },
  {
   "cell_type": "code",
   "execution_count": 13,
   "id": "3c32939c",
   "metadata": {},
   "outputs": [
    {
     "data": {
      "text/html": [
       "<div>\n",
       "<style scoped>\n",
       "    .dataframe tbody tr th:only-of-type {\n",
       "        vertical-align: middle;\n",
       "    }\n",
       "\n",
       "    .dataframe tbody tr th {\n",
       "        vertical-align: top;\n",
       "    }\n",
       "\n",
       "    .dataframe thead th {\n",
       "        text-align: right;\n",
       "    }\n",
       "</style>\n",
       "<table border=\"1\" class=\"dataframe\">\n",
       "  <thead>\n",
       "    <tr style=\"text-align: right;\">\n",
       "      <th></th>\n",
       "      <th>BOROUGH</th>\n",
       "      <th>NEIGHBORHOOD</th>\n",
       "      <th>BUILDING CLASS CATEGORY</th>\n",
       "      <th>TAX CLASS AT PRESENT</th>\n",
       "      <th>BLOCK</th>\n",
       "      <th>LOT</th>\n",
       "      <th>RESIDENTIAL UNITS</th>\n",
       "      <th>COMMERCIAL UNITS</th>\n",
       "      <th>TOTAL UNITS</th>\n",
       "      <th>LAND SQUARE FEET</th>\n",
       "      <th>GROSS SQUARE FEET</th>\n",
       "      <th>YEAR BUILT</th>\n",
       "      <th>TAX CLASS AT TIME OF SALE</th>\n",
       "      <th>SALE PRICE</th>\n",
       "      <th>SALE DATE</th>\n",
       "    </tr>\n",
       "  </thead>\n",
       "  <tbody>\n",
       "    <tr>\n",
       "      <th>0</th>\n",
       "      <td>Manhattan</td>\n",
       "      <td>ALPHABET CITY</td>\n",
       "      <td>07 RENTALS - WALKUP APARTMENTS</td>\n",
       "      <td>2A</td>\n",
       "      <td>392</td>\n",
       "      <td>6</td>\n",
       "      <td>5</td>\n",
       "      <td>0</td>\n",
       "      <td>5</td>\n",
       "      <td>1633</td>\n",
       "      <td>6440</td>\n",
       "      <td>1900</td>\n",
       "      <td>2</td>\n",
       "      <td>6625000</td>\n",
       "      <td>2017-07-19 00:00:00</td>\n",
       "    </tr>\n",
       "    <tr>\n",
       "      <th>1</th>\n",
       "      <td>Manhattan</td>\n",
       "      <td>ALPHABET CITY</td>\n",
       "      <td>07 RENTALS - WALKUP APARTMENTS</td>\n",
       "      <td>2</td>\n",
       "      <td>399</td>\n",
       "      <td>26</td>\n",
       "      <td>28</td>\n",
       "      <td>3</td>\n",
       "      <td>31</td>\n",
       "      <td>4616</td>\n",
       "      <td>18690</td>\n",
       "      <td>1900</td>\n",
       "      <td>2</td>\n",
       "      <td>-</td>\n",
       "      <td>2016-12-14 00:00:00</td>\n",
       "    </tr>\n",
       "    <tr>\n",
       "      <th>2</th>\n",
       "      <td>Manhattan</td>\n",
       "      <td>ALPHABET CITY</td>\n",
       "      <td>07 RENTALS - WALKUP APARTMENTS</td>\n",
       "      <td>2</td>\n",
       "      <td>399</td>\n",
       "      <td>39</td>\n",
       "      <td>16</td>\n",
       "      <td>1</td>\n",
       "      <td>17</td>\n",
       "      <td>2212</td>\n",
       "      <td>7803</td>\n",
       "      <td>1900</td>\n",
       "      <td>2</td>\n",
       "      <td>-</td>\n",
       "      <td>2016-12-09 00:00:00</td>\n",
       "    </tr>\n",
       "    <tr>\n",
       "      <th>3</th>\n",
       "      <td>Manhattan</td>\n",
       "      <td>ALPHABET CITY</td>\n",
       "      <td>07 RENTALS - WALKUP APARTMENTS</td>\n",
       "      <td>2B</td>\n",
       "      <td>402</td>\n",
       "      <td>21</td>\n",
       "      <td>10</td>\n",
       "      <td>0</td>\n",
       "      <td>10</td>\n",
       "      <td>2272</td>\n",
       "      <td>6794</td>\n",
       "      <td>1913</td>\n",
       "      <td>2</td>\n",
       "      <td>3936272</td>\n",
       "      <td>2016-09-23 00:00:00</td>\n",
       "    </tr>\n",
       "    <tr>\n",
       "      <th>4</th>\n",
       "      <td>Manhattan</td>\n",
       "      <td>ALPHABET CITY</td>\n",
       "      <td>07 RENTALS - WALKUP APARTMENTS</td>\n",
       "      <td>2A</td>\n",
       "      <td>404</td>\n",
       "      <td>55</td>\n",
       "      <td>6</td>\n",
       "      <td>0</td>\n",
       "      <td>6</td>\n",
       "      <td>2369</td>\n",
       "      <td>4615</td>\n",
       "      <td>1900</td>\n",
       "      <td>2</td>\n",
       "      <td>8000000</td>\n",
       "      <td>2016-11-17 00:00:00</td>\n",
       "    </tr>\n",
       "  </tbody>\n",
       "</table>\n",
       "</div>"
      ],
      "text/plain": [
       "     BOROUGH   NEIGHBORHOOD                      BUILDING CLASS CATEGORY  \\\n",
       "0  Manhattan  ALPHABET CITY  07 RENTALS - WALKUP APARTMENTS                \n",
       "1  Manhattan  ALPHABET CITY  07 RENTALS - WALKUP APARTMENTS                \n",
       "2  Manhattan  ALPHABET CITY  07 RENTALS - WALKUP APARTMENTS                \n",
       "3  Manhattan  ALPHABET CITY  07 RENTALS - WALKUP APARTMENTS                \n",
       "4  Manhattan  ALPHABET CITY  07 RENTALS - WALKUP APARTMENTS                \n",
       "\n",
       "  TAX CLASS AT PRESENT  BLOCK  LOT  RESIDENTIAL UNITS  COMMERCIAL UNITS  \\\n",
       "0                   2A    392    6                  5                 0   \n",
       "1                    2    399   26                 28                 3   \n",
       "2                    2    399   39                 16                 1   \n",
       "3                   2B    402   21                 10                 0   \n",
       "4                   2A    404   55                  6                 0   \n",
       "\n",
       "   TOTAL UNITS LAND SQUARE FEET GROSS SQUARE FEET  YEAR BUILT  \\\n",
       "0            5             1633              6440        1900   \n",
       "1           31             4616             18690        1900   \n",
       "2           17             2212              7803        1900   \n",
       "3           10             2272              6794        1913   \n",
       "4            6             2369              4615        1900   \n",
       "\n",
       "   TAX CLASS AT TIME OF SALE SALE PRICE            SALE DATE  \n",
       "0                          2    6625000  2017-07-19 00:00:00  \n",
       "1                          2        -    2016-12-14 00:00:00  \n",
       "2                          2        -    2016-12-09 00:00:00  \n",
       "3                          2    3936272  2016-09-23 00:00:00  \n",
       "4                          2    8000000  2016-11-17 00:00:00  "
      ]
     },
     "execution_count": 13,
     "metadata": {},
     "output_type": "execute_result"
    }
   ],
   "source": [
    "dataframe.head()"
   ]
  },
  {
   "cell_type": "markdown",
   "id": "f0957eb9",
   "metadata": {},
   "source": [
    "Menampilkan 5 data terbawah"
   ]
  },
  {
   "cell_type": "code",
   "execution_count": 14,
   "id": "63e3421f",
   "metadata": {},
   "outputs": [
    {
     "data": {
      "text/html": [
       "<div>\n",
       "<style scoped>\n",
       "    .dataframe tbody tr th:only-of-type {\n",
       "        vertical-align: middle;\n",
       "    }\n",
       "\n",
       "    .dataframe tbody tr th {\n",
       "        vertical-align: top;\n",
       "    }\n",
       "\n",
       "    .dataframe thead th {\n",
       "        text-align: right;\n",
       "    }\n",
       "</style>\n",
       "<table border=\"1\" class=\"dataframe\">\n",
       "  <thead>\n",
       "    <tr style=\"text-align: right;\">\n",
       "      <th></th>\n",
       "      <th>BOROUGH</th>\n",
       "      <th>NEIGHBORHOOD</th>\n",
       "      <th>BUILDING CLASS CATEGORY</th>\n",
       "      <th>TAX CLASS AT PRESENT</th>\n",
       "      <th>BLOCK</th>\n",
       "      <th>LOT</th>\n",
       "      <th>RESIDENTIAL UNITS</th>\n",
       "      <th>COMMERCIAL UNITS</th>\n",
       "      <th>TOTAL UNITS</th>\n",
       "      <th>LAND SQUARE FEET</th>\n",
       "      <th>GROSS SQUARE FEET</th>\n",
       "      <th>YEAR BUILT</th>\n",
       "      <th>TAX CLASS AT TIME OF SALE</th>\n",
       "      <th>SALE PRICE</th>\n",
       "      <th>SALE DATE</th>\n",
       "    </tr>\n",
       "  </thead>\n",
       "  <tbody>\n",
       "    <tr>\n",
       "      <th>84543</th>\n",
       "      <td>Staten Island</td>\n",
       "      <td>WOODROW</td>\n",
       "      <td>02 TWO FAMILY DWELLINGS</td>\n",
       "      <td>1</td>\n",
       "      <td>7349</td>\n",
       "      <td>34</td>\n",
       "      <td>2</td>\n",
       "      <td>0</td>\n",
       "      <td>2</td>\n",
       "      <td>2400</td>\n",
       "      <td>2575</td>\n",
       "      <td>1998</td>\n",
       "      <td>1</td>\n",
       "      <td>450000</td>\n",
       "      <td>2016-11-28 00:00:00</td>\n",
       "    </tr>\n",
       "    <tr>\n",
       "      <th>84544</th>\n",
       "      <td>Staten Island</td>\n",
       "      <td>WOODROW</td>\n",
       "      <td>02 TWO FAMILY DWELLINGS</td>\n",
       "      <td>1</td>\n",
       "      <td>7349</td>\n",
       "      <td>78</td>\n",
       "      <td>2</td>\n",
       "      <td>0</td>\n",
       "      <td>2</td>\n",
       "      <td>2498</td>\n",
       "      <td>2377</td>\n",
       "      <td>1998</td>\n",
       "      <td>1</td>\n",
       "      <td>550000</td>\n",
       "      <td>2017-04-21 00:00:00</td>\n",
       "    </tr>\n",
       "    <tr>\n",
       "      <th>84545</th>\n",
       "      <td>Staten Island</td>\n",
       "      <td>WOODROW</td>\n",
       "      <td>02 TWO FAMILY DWELLINGS</td>\n",
       "      <td>1</td>\n",
       "      <td>7351</td>\n",
       "      <td>60</td>\n",
       "      <td>2</td>\n",
       "      <td>0</td>\n",
       "      <td>2</td>\n",
       "      <td>4000</td>\n",
       "      <td>1496</td>\n",
       "      <td>1925</td>\n",
       "      <td>1</td>\n",
       "      <td>460000</td>\n",
       "      <td>2017-07-05 00:00:00</td>\n",
       "    </tr>\n",
       "    <tr>\n",
       "      <th>84546</th>\n",
       "      <td>Staten Island</td>\n",
       "      <td>WOODROW</td>\n",
       "      <td>22 STORE BUILDINGS</td>\n",
       "      <td>4</td>\n",
       "      <td>7100</td>\n",
       "      <td>28</td>\n",
       "      <td>0</td>\n",
       "      <td>7</td>\n",
       "      <td>7</td>\n",
       "      <td>208033</td>\n",
       "      <td>64117</td>\n",
       "      <td>2001</td>\n",
       "      <td>4</td>\n",
       "      <td>11693337</td>\n",
       "      <td>2016-12-21 00:00:00</td>\n",
       "    </tr>\n",
       "    <tr>\n",
       "      <th>84547</th>\n",
       "      <td>Staten Island</td>\n",
       "      <td>WOODROW</td>\n",
       "      <td>35 INDOOR PUBLIC AND CULTURAL FACILITIES</td>\n",
       "      <td>4</td>\n",
       "      <td>7105</td>\n",
       "      <td>679</td>\n",
       "      <td>0</td>\n",
       "      <td>1</td>\n",
       "      <td>1</td>\n",
       "      <td>10796</td>\n",
       "      <td>2400</td>\n",
       "      <td>2006</td>\n",
       "      <td>4</td>\n",
       "      <td>69300</td>\n",
       "      <td>2016-10-27 00:00:00</td>\n",
       "    </tr>\n",
       "  </tbody>\n",
       "</table>\n",
       "</div>"
      ],
      "text/plain": [
       "             BOROUGH NEIGHBORHOOD  \\\n",
       "84543  Staten Island      WOODROW   \n",
       "84544  Staten Island      WOODROW   \n",
       "84545  Staten Island      WOODROW   \n",
       "84546  Staten Island      WOODROW   \n",
       "84547  Staten Island      WOODROW   \n",
       "\n",
       "                           BUILDING CLASS CATEGORY TAX CLASS AT PRESENT  \\\n",
       "84543  02 TWO FAMILY DWELLINGS                                        1   \n",
       "84544  02 TWO FAMILY DWELLINGS                                        1   \n",
       "84545  02 TWO FAMILY DWELLINGS                                        1   \n",
       "84546  22 STORE BUILDINGS                                             4   \n",
       "84547  35 INDOOR PUBLIC AND CULTURAL FACILITIES                       4   \n",
       "\n",
       "       BLOCK  LOT  RESIDENTIAL UNITS  COMMERCIAL UNITS  TOTAL UNITS  \\\n",
       "84543   7349   34                  2                 0            2   \n",
       "84544   7349   78                  2                 0            2   \n",
       "84545   7351   60                  2                 0            2   \n",
       "84546   7100   28                  0                 7            7   \n",
       "84547   7105  679                  0                 1            1   \n",
       "\n",
       "      LAND SQUARE FEET GROSS SQUARE FEET  YEAR BUILT  \\\n",
       "84543             2400              2575        1998   \n",
       "84544             2498              2377        1998   \n",
       "84545             4000              1496        1925   \n",
       "84546           208033             64117        2001   \n",
       "84547            10796              2400        2006   \n",
       "\n",
       "       TAX CLASS AT TIME OF SALE SALE PRICE            SALE DATE  \n",
       "84543                          1     450000  2016-11-28 00:00:00  \n",
       "84544                          1     550000  2017-04-21 00:00:00  \n",
       "84545                          1     460000  2017-07-05 00:00:00  \n",
       "84546                          4   11693337  2016-12-21 00:00:00  \n",
       "84547                          4      69300  2016-10-27 00:00:00  "
      ]
     },
     "execution_count": 14,
     "metadata": {},
     "output_type": "execute_result"
    }
   ],
   "source": [
    "dataframe.tail()"
   ]
  },
  {
   "cell_type": "markdown",
   "id": "f92075cd",
   "metadata": {},
   "source": [
    "Menampilkan jumlah baris dan kolom dari datasets"
   ]
  },
  {
   "cell_type": "code",
   "execution_count": 15,
   "id": "0b1c8f04",
   "metadata": {},
   "outputs": [
    {
     "data": {
      "text/plain": [
       "(84548, 15)"
      ]
     },
     "execution_count": 15,
     "metadata": {},
     "output_type": "execute_result"
    }
   ],
   "source": [
    "dataframe.shape"
   ]
  },
  {
   "cell_type": "markdown",
   "id": "dca508e7",
   "metadata": {},
   "source": [
    "Menampilkan informasi tentang Datasets seperti jumlah baris , nama kolom , tipe data dan sebagainya."
   ]
  },
  {
   "cell_type": "code",
   "execution_count": 31,
   "id": "72aefee2",
   "metadata": {},
   "outputs": [
    {
     "name": "stdout",
     "output_type": "stream",
     "text": [
      "<class 'pandas.core.frame.DataFrame'>\n",
      "RangeIndex: 84548 entries, 0 to 84547\n",
      "Data columns (total 15 columns):\n",
      " #   Column                     Non-Null Count  Dtype \n",
      "---  ------                     --------------  ----- \n",
      " 0   BOROUGH                    84548 non-null  object\n",
      " 1   NEIGHBORHOOD               84548 non-null  object\n",
      " 2   BUILDING CLASS CATEGORY    84548 non-null  object\n",
      " 3   TAX CLASS AT PRESENT       84548 non-null  object\n",
      " 4   BLOCK                      84548 non-null  int64 \n",
      " 5   LOT                        84548 non-null  int64 \n",
      " 6   RESIDENTIAL UNITS          84548 non-null  int64 \n",
      " 7   COMMERCIAL UNITS           84548 non-null  int64 \n",
      " 8   TOTAL UNITS                84548 non-null  int64 \n",
      " 9   LAND SQUARE FEET           84548 non-null  object\n",
      " 10  GROSS SQUARE FEET          84548 non-null  object\n",
      " 11  YEAR BUILT                 84548 non-null  int64 \n",
      " 12  TAX CLASS AT TIME OF SALE  84548 non-null  int64 \n",
      " 13  SALE PRICE                 84548 non-null  object\n",
      " 14  SALE DATE                  84548 non-null  object\n",
      "dtypes: int64(7), object(8)\n",
      "memory usage: 9.7+ MB\n"
     ]
    }
   ],
   "source": [
    "dataframe.info()"
   ]
  },
  {
   "cell_type": "markdown",
   "id": "0fbec2bb",
   "metadata": {},
   "source": [
    "Mengubah tipe data dari kolom `LAND SQUARE FEET`, `GROSS SQUARE FEET`, dan `SALE PRICE` dari object ke numeric. Jika ada data yang kosong maka akan diisi dengan angka 0"
   ]
  },
  {
   "cell_type": "code",
   "execution_count": 33,
   "id": "a51f07b2",
   "metadata": {},
   "outputs": [],
   "source": [
    "convert_col = ['LAND SQUARE FEET', 'GROSS SQUARE FEET', 'SALE PRICE']\n",
    "\n",
    "for col in convert_col:\n",
    "    dataframe[col] = pd.to_numeric(dataframe[col], errors='coerce')"
   ]
  },
  {
   "cell_type": "markdown",
   "id": "484b6627",
   "metadata": {},
   "source": [
    "Mengubah tipe data dari kolom `TAX CLASS AT PRESENT` dan `TAX CLASS AT TIME OF SALE` menjadi kategorikal"
   ]
  },
  {
   "cell_type": "code",
   "execution_count": 34,
   "id": "1481dd33",
   "metadata": {},
   "outputs": [],
   "source": [
    "dataframe['TAX CLASS AT TIME OF SALE'] = dataframe['TAX CLASS AT TIME OF SALE'].astype('category')\n",
    "dataframe['TAX CLASS AT PRESENT'] = dataframe['TAX CLASS AT PRESENT'].astype('category')"
   ]
  },
  {
   "cell_type": "markdown",
   "id": "0c408ac8",
   "metadata": {},
   "source": [
    "Mengubah tipe data dari kolom `SALE DATE` menjadi datetime"
   ]
  },
  {
   "cell_type": "code",
   "execution_count": 35,
   "id": "a1386044",
   "metadata": {},
   "outputs": [],
   "source": [
    "dataframe['SALE DATE'] = pd.to_datetime(dataframe['SALE DATE'])"
   ]
  },
  {
   "cell_type": "markdown",
   "id": "df5ed7b1",
   "metadata": {},
   "source": [
    "Menampilkan tipe data setelah diubah"
   ]
  },
  {
   "cell_type": "code",
   "execution_count": 36,
   "id": "b221db3b",
   "metadata": {},
   "outputs": [
    {
     "data": {
      "text/plain": [
       "BOROUGH                              object\n",
       "NEIGHBORHOOD                         object\n",
       "BUILDING CLASS CATEGORY              object\n",
       "TAX CLASS AT PRESENT               category\n",
       "BLOCK                                 int64\n",
       "LOT                                   int64\n",
       "RESIDENTIAL UNITS                     int64\n",
       "COMMERCIAL UNITS                      int64\n",
       "TOTAL UNITS                           int64\n",
       "LAND SQUARE FEET                    float64\n",
       "GROSS SQUARE FEET                   float64\n",
       "YEAR BUILT                            int64\n",
       "TAX CLASS AT TIME OF SALE          category\n",
       "SALE PRICE                          float64\n",
       "SALE DATE                    datetime64[ns]\n",
       "dtype: object"
      ]
     },
     "execution_count": 36,
     "metadata": {},
     "output_type": "execute_result"
    }
   ],
   "source": [
    "dataframe.dtypes"
   ]
  },
  {
   "cell_type": "markdown",
   "id": "8d54486e",
   "metadata": {},
   "source": [
    "Menampilkan statistik deskriptif dalam datasets"
   ]
  },
  {
   "cell_type": "code",
   "execution_count": 37,
   "id": "94efd9c6",
   "metadata": {},
   "outputs": [
    {
     "data": {
      "text/html": [
       "<div>\n",
       "<style scoped>\n",
       "    .dataframe tbody tr th:only-of-type {\n",
       "        vertical-align: middle;\n",
       "    }\n",
       "\n",
       "    .dataframe tbody tr th {\n",
       "        vertical-align: top;\n",
       "    }\n",
       "\n",
       "    .dataframe thead th {\n",
       "        text-align: right;\n",
       "    }\n",
       "</style>\n",
       "<table border=\"1\" class=\"dataframe\">\n",
       "  <thead>\n",
       "    <tr style=\"text-align: right;\">\n",
       "      <th></th>\n",
       "      <th>BLOCK</th>\n",
       "      <th>LOT</th>\n",
       "      <th>RESIDENTIAL UNITS</th>\n",
       "      <th>COMMERCIAL UNITS</th>\n",
       "      <th>TOTAL UNITS</th>\n",
       "      <th>LAND SQUARE FEET</th>\n",
       "      <th>GROSS SQUARE FEET</th>\n",
       "      <th>YEAR BUILT</th>\n",
       "      <th>SALE PRICE</th>\n",
       "    </tr>\n",
       "  </thead>\n",
       "  <tbody>\n",
       "    <tr>\n",
       "      <th>count</th>\n",
       "      <td>84548.000000</td>\n",
       "      <td>84548.000000</td>\n",
       "      <td>84548.000000</td>\n",
       "      <td>84548.000000</td>\n",
       "      <td>84548.000000</td>\n",
       "      <td>5.829600e+04</td>\n",
       "      <td>5.693600e+04</td>\n",
       "      <td>84548.000000</td>\n",
       "      <td>6.998700e+04</td>\n",
       "    </tr>\n",
       "    <tr>\n",
       "      <th>mean</th>\n",
       "      <td>4237.218976</td>\n",
       "      <td>376.224015</td>\n",
       "      <td>2.025264</td>\n",
       "      <td>0.193559</td>\n",
       "      <td>2.249184</td>\n",
       "      <td>3.941676e+03</td>\n",
       "      <td>4.045707e+03</td>\n",
       "      <td>1789.322976</td>\n",
       "      <td>1.276456e+06</td>\n",
       "    </tr>\n",
       "    <tr>\n",
       "      <th>std</th>\n",
       "      <td>3568.263407</td>\n",
       "      <td>658.136814</td>\n",
       "      <td>16.721037</td>\n",
       "      <td>8.713183</td>\n",
       "      <td>18.972584</td>\n",
       "      <td>4.198397e+04</td>\n",
       "      <td>3.503249e+04</td>\n",
       "      <td>537.344993</td>\n",
       "      <td>1.140526e+07</td>\n",
       "    </tr>\n",
       "    <tr>\n",
       "      <th>min</th>\n",
       "      <td>1.000000</td>\n",
       "      <td>1.000000</td>\n",
       "      <td>0.000000</td>\n",
       "      <td>0.000000</td>\n",
       "      <td>0.000000</td>\n",
       "      <td>0.000000e+00</td>\n",
       "      <td>0.000000e+00</td>\n",
       "      <td>0.000000</td>\n",
       "      <td>0.000000e+00</td>\n",
       "    </tr>\n",
       "    <tr>\n",
       "      <th>25%</th>\n",
       "      <td>1322.750000</td>\n",
       "      <td>22.000000</td>\n",
       "      <td>0.000000</td>\n",
       "      <td>0.000000</td>\n",
       "      <td>1.000000</td>\n",
       "      <td>1.650000e+03</td>\n",
       "      <td>1.046750e+03</td>\n",
       "      <td>1920.000000</td>\n",
       "      <td>2.250000e+05</td>\n",
       "    </tr>\n",
       "    <tr>\n",
       "      <th>50%</th>\n",
       "      <td>3311.000000</td>\n",
       "      <td>50.000000</td>\n",
       "      <td>1.000000</td>\n",
       "      <td>0.000000</td>\n",
       "      <td>1.000000</td>\n",
       "      <td>2.325000e+03</td>\n",
       "      <td>1.680000e+03</td>\n",
       "      <td>1940.000000</td>\n",
       "      <td>5.300000e+05</td>\n",
       "    </tr>\n",
       "    <tr>\n",
       "      <th>75%</th>\n",
       "      <td>6281.000000</td>\n",
       "      <td>1001.000000</td>\n",
       "      <td>2.000000</td>\n",
       "      <td>0.000000</td>\n",
       "      <td>2.000000</td>\n",
       "      <td>3.500000e+03</td>\n",
       "      <td>2.560000e+03</td>\n",
       "      <td>1965.000000</td>\n",
       "      <td>9.500000e+05</td>\n",
       "    </tr>\n",
       "    <tr>\n",
       "      <th>max</th>\n",
       "      <td>16322.000000</td>\n",
       "      <td>9106.000000</td>\n",
       "      <td>1844.000000</td>\n",
       "      <td>2261.000000</td>\n",
       "      <td>2261.000000</td>\n",
       "      <td>4.252327e+06</td>\n",
       "      <td>3.750565e+06</td>\n",
       "      <td>2017.000000</td>\n",
       "      <td>2.210000e+09</td>\n",
       "    </tr>\n",
       "  </tbody>\n",
       "</table>\n",
       "</div>"
      ],
      "text/plain": [
       "              BLOCK           LOT  RESIDENTIAL UNITS  COMMERCIAL UNITS  \\\n",
       "count  84548.000000  84548.000000       84548.000000      84548.000000   \n",
       "mean    4237.218976    376.224015           2.025264          0.193559   \n",
       "std     3568.263407    658.136814          16.721037          8.713183   \n",
       "min        1.000000      1.000000           0.000000          0.000000   \n",
       "25%     1322.750000     22.000000           0.000000          0.000000   \n",
       "50%     3311.000000     50.000000           1.000000          0.000000   \n",
       "75%     6281.000000   1001.000000           2.000000          0.000000   \n",
       "max    16322.000000   9106.000000        1844.000000       2261.000000   \n",
       "\n",
       "        TOTAL UNITS  LAND SQUARE FEET  GROSS SQUARE FEET    YEAR BUILT  \\\n",
       "count  84548.000000      5.829600e+04       5.693600e+04  84548.000000   \n",
       "mean       2.249184      3.941676e+03       4.045707e+03   1789.322976   \n",
       "std       18.972584      4.198397e+04       3.503249e+04    537.344993   \n",
       "min        0.000000      0.000000e+00       0.000000e+00      0.000000   \n",
       "25%        1.000000      1.650000e+03       1.046750e+03   1920.000000   \n",
       "50%        1.000000      2.325000e+03       1.680000e+03   1940.000000   \n",
       "75%        2.000000      3.500000e+03       2.560000e+03   1965.000000   \n",
       "max     2261.000000      4.252327e+06       3.750565e+06   2017.000000   \n",
       "\n",
       "         SALE PRICE  \n",
       "count  6.998700e+04  \n",
       "mean   1.276456e+06  \n",
       "std    1.140526e+07  \n",
       "min    0.000000e+00  \n",
       "25%    2.250000e+05  \n",
       "50%    5.300000e+05  \n",
       "75%    9.500000e+05  \n",
       "max    2.210000e+09  "
      ]
     },
     "execution_count": 37,
     "metadata": {},
     "output_type": "execute_result"
    }
   ],
   "source": [
    "dataframe.describe()"
   ]
  },
  {
   "cell_type": "markdown",
   "id": "befff267",
   "metadata": {},
   "source": [
    "Mengecek missing value"
   ]
  },
  {
   "cell_type": "code",
   "execution_count": 38,
   "id": "407ac96e",
   "metadata": {},
   "outputs": [
    {
     "data": {
      "text/plain": [
       "BOROUGH                          0\n",
       "NEIGHBORHOOD                     0\n",
       "BUILDING CLASS CATEGORY          0\n",
       "TAX CLASS AT PRESENT             0\n",
       "BLOCK                            0\n",
       "LOT                              0\n",
       "RESIDENTIAL UNITS                0\n",
       "COMMERCIAL UNITS                 0\n",
       "TOTAL UNITS                      0\n",
       "LAND SQUARE FEET             26252\n",
       "GROSS SQUARE FEET            27612\n",
       "YEAR BUILT                       0\n",
       "TAX CLASS AT TIME OF SALE        0\n",
       "SALE PRICE                   14561\n",
       "SALE DATE                        0\n",
       "dtype: int64"
      ]
     },
     "execution_count": 38,
     "metadata": {},
     "output_type": "execute_result"
    }
   ],
   "source": [
    "dataframe.isnull().sum()"
   ]
  },
  {
   "cell_type": "markdown",
   "id": "214ca471",
   "metadata": {},
   "source": [
    "Mengatasi missing value pada kolom yang kosong `LAND SQUARE FEET`, `GROSS SQUARE FEET`, dan `SALE PRICE` akan diubah dengan nilai median dari setiap kolom."
   ]
  },
  {
   "cell_type": "markdown",
   "id": "c180c6af",
   "metadata": {},
   "source": [
    "Mencari nilai median pada setiap kolom"
   ]
  },
  {
   "cell_type": "code",
   "execution_count": 40,
   "id": "6da49947",
   "metadata": {},
   "outputs": [
    {
     "name": "stdout",
     "output_type": "stream",
     "text": [
      "Median dari kolom LAND SQUARE FEET : 2325.0\n",
      "Median dari kolom GROSS SQUARE FEET : 1680.0\n",
      "Median dari kolom SALE PRICE : 530000.0\n"
     ]
    }
   ],
   "source": [
    "median_lsf = dataframe['LAND SQUARE FEET'].median()\n",
    "median_gsf = dataframe['GROSS SQUARE FEET'].median()\n",
    "median_sp = dataframe['SALE PRICE'].median()\n",
    "\n",
    "print(\"Median dari kolom LAND SQUARE FEET :\", median_lsf)\n",
    "print(\"Median dari kolom GROSS SQUARE FEET :\", median_gsf)\n",
    "print(\"Median dari kolom SALE PRICE :\", median_sp)"
   ]
  },
  {
   "cell_type": "markdown",
   "id": "e7caf793",
   "metadata": {},
   "source": [
    "Mengisi kolom yang kosong dengan nilai median diatas"
   ]
  },
  {
   "cell_type": "code",
   "execution_count": 41,
   "id": "798256ec",
   "metadata": {},
   "outputs": [],
   "source": [
    "dataframe['LAND SQUARE FEET'].fillna(dataframe['LAND SQUARE FEET'].median(), inplace=True)\n",
    "dataframe['GROSS SQUARE FEET'].fillna(dataframe['GROSS SQUARE FEET'].median(), inplace=True)\n",
    "dataframe['SALE PRICE'].fillna(dataframe['SALE PRICE'].median(), inplace=True)"
   ]
  },
  {
   "cell_type": "markdown",
   "id": "ed652cee",
   "metadata": {},
   "source": [
    "Mengecek kembali missing value"
   ]
  },
  {
   "cell_type": "code",
   "execution_count": 42,
   "id": "e6d5640e",
   "metadata": {},
   "outputs": [
    {
     "data": {
      "text/plain": [
       "BOROUGH                      0\n",
       "NEIGHBORHOOD                 0\n",
       "BUILDING CLASS CATEGORY      0\n",
       "TAX CLASS AT PRESENT         0\n",
       "BLOCK                        0\n",
       "LOT                          0\n",
       "RESIDENTIAL UNITS            0\n",
       "COMMERCIAL UNITS             0\n",
       "TOTAL UNITS                  0\n",
       "LAND SQUARE FEET             0\n",
       "GROSS SQUARE FEET            0\n",
       "YEAR BUILT                   0\n",
       "TAX CLASS AT TIME OF SALE    0\n",
       "SALE PRICE                   0\n",
       "SALE DATE                    0\n",
       "dtype: int64"
      ]
     },
     "execution_count": 42,
     "metadata": {},
     "output_type": "execute_result"
    }
   ],
   "source": [
    "dataframe.isnull().sum()"
   ]
  },
  {
   "cell_type": "markdown",
   "id": "1f8bc5df",
   "metadata": {},
   "source": [
    "Mengecek data duplikat"
   ]
  },
  {
   "cell_type": "code",
   "execution_count": 43,
   "id": "57f15594",
   "metadata": {},
   "outputs": [
    {
     "data": {
      "text/plain": [
       "961"
      ]
     },
     "execution_count": 43,
     "metadata": {},
     "output_type": "execute_result"
    }
   ],
   "source": [
    "dataframe.duplicated().sum()"
   ]
  },
  {
   "cell_type": "markdown",
   "id": "ee738da5",
   "metadata": {},
   "source": [
    "Menghapus data duplikat"
   ]
  },
  {
   "cell_type": "code",
   "execution_count": 44,
   "id": "27ac69df",
   "metadata": {},
   "outputs": [],
   "source": [
    "dataframe.drop_duplicates(inplace=True)"
   ]
  },
  {
   "cell_type": "markdown",
   "id": "3f6db3a5",
   "metadata": {},
   "source": [
    "Menampilkan 5 data teratas"
   ]
  },
  {
   "cell_type": "code",
   "execution_count": 45,
   "id": "aed0b6ac",
   "metadata": {},
   "outputs": [
    {
     "data": {
      "text/html": [
       "<div>\n",
       "<style scoped>\n",
       "    .dataframe tbody tr th:only-of-type {\n",
       "        vertical-align: middle;\n",
       "    }\n",
       "\n",
       "    .dataframe tbody tr th {\n",
       "        vertical-align: top;\n",
       "    }\n",
       "\n",
       "    .dataframe thead th {\n",
       "        text-align: right;\n",
       "    }\n",
       "</style>\n",
       "<table border=\"1\" class=\"dataframe\">\n",
       "  <thead>\n",
       "    <tr style=\"text-align: right;\">\n",
       "      <th></th>\n",
       "      <th>BOROUGH</th>\n",
       "      <th>NEIGHBORHOOD</th>\n",
       "      <th>BUILDING CLASS CATEGORY</th>\n",
       "      <th>TAX CLASS AT PRESENT</th>\n",
       "      <th>BLOCK</th>\n",
       "      <th>LOT</th>\n",
       "      <th>RESIDENTIAL UNITS</th>\n",
       "      <th>COMMERCIAL UNITS</th>\n",
       "      <th>TOTAL UNITS</th>\n",
       "      <th>LAND SQUARE FEET</th>\n",
       "      <th>GROSS SQUARE FEET</th>\n",
       "      <th>YEAR BUILT</th>\n",
       "      <th>TAX CLASS AT TIME OF SALE</th>\n",
       "      <th>SALE PRICE</th>\n",
       "      <th>SALE DATE</th>\n",
       "    </tr>\n",
       "  </thead>\n",
       "  <tbody>\n",
       "    <tr>\n",
       "      <th>0</th>\n",
       "      <td>Manhattan</td>\n",
       "      <td>ALPHABET CITY</td>\n",
       "      <td>07 RENTALS - WALKUP APARTMENTS</td>\n",
       "      <td>2A</td>\n",
       "      <td>392</td>\n",
       "      <td>6</td>\n",
       "      <td>5</td>\n",
       "      <td>0</td>\n",
       "      <td>5</td>\n",
       "      <td>1633.0</td>\n",
       "      <td>6440.0</td>\n",
       "      <td>1900</td>\n",
       "      <td>2</td>\n",
       "      <td>6625000.0</td>\n",
       "      <td>2017-07-19</td>\n",
       "    </tr>\n",
       "    <tr>\n",
       "      <th>1</th>\n",
       "      <td>Manhattan</td>\n",
       "      <td>ALPHABET CITY</td>\n",
       "      <td>07 RENTALS - WALKUP APARTMENTS</td>\n",
       "      <td>2</td>\n",
       "      <td>399</td>\n",
       "      <td>26</td>\n",
       "      <td>28</td>\n",
       "      <td>3</td>\n",
       "      <td>31</td>\n",
       "      <td>4616.0</td>\n",
       "      <td>18690.0</td>\n",
       "      <td>1900</td>\n",
       "      <td>2</td>\n",
       "      <td>530000.0</td>\n",
       "      <td>2016-12-14</td>\n",
       "    </tr>\n",
       "    <tr>\n",
       "      <th>2</th>\n",
       "      <td>Manhattan</td>\n",
       "      <td>ALPHABET CITY</td>\n",
       "      <td>07 RENTALS - WALKUP APARTMENTS</td>\n",
       "      <td>2</td>\n",
       "      <td>399</td>\n",
       "      <td>39</td>\n",
       "      <td>16</td>\n",
       "      <td>1</td>\n",
       "      <td>17</td>\n",
       "      <td>2212.0</td>\n",
       "      <td>7803.0</td>\n",
       "      <td>1900</td>\n",
       "      <td>2</td>\n",
       "      <td>530000.0</td>\n",
       "      <td>2016-12-09</td>\n",
       "    </tr>\n",
       "    <tr>\n",
       "      <th>3</th>\n",
       "      <td>Manhattan</td>\n",
       "      <td>ALPHABET CITY</td>\n",
       "      <td>07 RENTALS - WALKUP APARTMENTS</td>\n",
       "      <td>2B</td>\n",
       "      <td>402</td>\n",
       "      <td>21</td>\n",
       "      <td>10</td>\n",
       "      <td>0</td>\n",
       "      <td>10</td>\n",
       "      <td>2272.0</td>\n",
       "      <td>6794.0</td>\n",
       "      <td>1913</td>\n",
       "      <td>2</td>\n",
       "      <td>3936272.0</td>\n",
       "      <td>2016-09-23</td>\n",
       "    </tr>\n",
       "    <tr>\n",
       "      <th>4</th>\n",
       "      <td>Manhattan</td>\n",
       "      <td>ALPHABET CITY</td>\n",
       "      <td>07 RENTALS - WALKUP APARTMENTS</td>\n",
       "      <td>2A</td>\n",
       "      <td>404</td>\n",
       "      <td>55</td>\n",
       "      <td>6</td>\n",
       "      <td>0</td>\n",
       "      <td>6</td>\n",
       "      <td>2369.0</td>\n",
       "      <td>4615.0</td>\n",
       "      <td>1900</td>\n",
       "      <td>2</td>\n",
       "      <td>8000000.0</td>\n",
       "      <td>2016-11-17</td>\n",
       "    </tr>\n",
       "  </tbody>\n",
       "</table>\n",
       "</div>"
      ],
      "text/plain": [
       "     BOROUGH   NEIGHBORHOOD                      BUILDING CLASS CATEGORY  \\\n",
       "0  Manhattan  ALPHABET CITY  07 RENTALS - WALKUP APARTMENTS                \n",
       "1  Manhattan  ALPHABET CITY  07 RENTALS - WALKUP APARTMENTS                \n",
       "2  Manhattan  ALPHABET CITY  07 RENTALS - WALKUP APARTMENTS                \n",
       "3  Manhattan  ALPHABET CITY  07 RENTALS - WALKUP APARTMENTS                \n",
       "4  Manhattan  ALPHABET CITY  07 RENTALS - WALKUP APARTMENTS                \n",
       "\n",
       "  TAX CLASS AT PRESENT  BLOCK  LOT  RESIDENTIAL UNITS  COMMERCIAL UNITS  \\\n",
       "0                   2A    392    6                  5                 0   \n",
       "1                    2    399   26                 28                 3   \n",
       "2                    2    399   39                 16                 1   \n",
       "3                   2B    402   21                 10                 0   \n",
       "4                   2A    404   55                  6                 0   \n",
       "\n",
       "   TOTAL UNITS  LAND SQUARE FEET  GROSS SQUARE FEET  YEAR BUILT  \\\n",
       "0            5            1633.0             6440.0        1900   \n",
       "1           31            4616.0            18690.0        1900   \n",
       "2           17            2212.0             7803.0        1900   \n",
       "3           10            2272.0             6794.0        1913   \n",
       "4            6            2369.0             4615.0        1900   \n",
       "\n",
       "  TAX CLASS AT TIME OF SALE  SALE PRICE  SALE DATE  \n",
       "0                         2   6625000.0 2017-07-19  \n",
       "1                         2    530000.0 2016-12-14  \n",
       "2                         2    530000.0 2016-12-09  \n",
       "3                         2   3936272.0 2016-09-23  \n",
       "4                         2   8000000.0 2016-11-17  "
      ]
     },
     "execution_count": 45,
     "metadata": {},
     "output_type": "execute_result"
    }
   ],
   "source": [
    "dataframe.head()"
   ]
  },
  {
   "cell_type": "markdown",
   "id": "1ccce46f",
   "metadata": {},
   "source": [
    "- Apakah ada perbedaan unit terjual antara properti yang dibangun pada tahun 1900-2000 dengan tahun 2001 dan seterusnya?\n",
    "- Apakah ada perbedaan unit yang terjual berdasarkan kategori bangunan?\n",
    "- Apa yang dapat Anda temukan tentang real estat Kota New York dengan melihat catatan transaksi mentah selama satu tahun? dapatkah Anda melihat tren di pasar?"
   ]
  },
  {
   "cell_type": "markdown",
   "id": "426a2d09",
   "metadata": {},
   "source": [
    "# Measure of Central Tendency"
   ]
  },
  {
   "cell_type": "markdown",
   "id": "de59059c",
   "metadata": {},
   "source": [
    "Menghitung nilai rata rata `SALE PRICE` pada setiap data di kolom `BOROUGH`"
   ]
  },
  {
   "cell_type": "code",
   "execution_count": 46,
   "id": "153d1725",
   "metadata": {},
   "outputs": [
    {
     "data": {
      "text/html": [
       "<div>\n",
       "<style scoped>\n",
       "    .dataframe tbody tr th:only-of-type {\n",
       "        vertical-align: middle;\n",
       "    }\n",
       "\n",
       "    .dataframe tbody tr th {\n",
       "        vertical-align: top;\n",
       "    }\n",
       "\n",
       "    .dataframe thead th {\n",
       "        text-align: right;\n",
       "    }\n",
       "</style>\n",
       "<table border=\"1\" class=\"dataframe\">\n",
       "  <thead>\n",
       "    <tr style=\"text-align: right;\">\n",
       "      <th></th>\n",
       "      <th>SALE PRICE</th>\n",
       "    </tr>\n",
       "    <tr>\n",
       "      <th>BOROUGH</th>\n",
       "      <th></th>\n",
       "    </tr>\n",
       "  </thead>\n",
       "  <tbody>\n",
       "    <tr>\n",
       "      <th>Bronx</th>\n",
       "      <td>5.955543e+05</td>\n",
       "    </tr>\n",
       "    <tr>\n",
       "      <th>Brooklyn</th>\n",
       "      <td>8.423449e+05</td>\n",
       "    </tr>\n",
       "    <tr>\n",
       "      <th>Manhattan</th>\n",
       "      <td>2.773636e+06</td>\n",
       "    </tr>\n",
       "    <tr>\n",
       "      <th>Queens</th>\n",
       "      <td>6.753599e+05</td>\n",
       "    </tr>\n",
       "    <tr>\n",
       "      <th>Staten Island</th>\n",
       "      <td>5.398224e+05</td>\n",
       "    </tr>\n",
       "  </tbody>\n",
       "</table>\n",
       "</div>"
      ],
      "text/plain": [
       "                 SALE PRICE\n",
       "BOROUGH                    \n",
       "Bronx          5.955543e+05\n",
       "Brooklyn       8.423449e+05\n",
       "Manhattan      2.773636e+06\n",
       "Queens         6.753599e+05\n",
       "Staten Island  5.398224e+05"
      ]
     },
     "execution_count": 46,
     "metadata": {},
     "output_type": "execute_result"
    }
   ],
   "source": [
    "mean_price = dataframe.groupby('BOROUGH').agg({'SALE PRICE':np.mean})\n",
    "mean_price"
   ]
  },
  {
   "cell_type": "code",
   "execution_count": 70,
   "id": "1db51959",
   "metadata": {},
   "outputs": [
    {
     "data": {
      "image/png": "[encoded data removed]",
      "text/plain": [
       "<Figure size 1000x600 with 1 Axes>"
      ]
     },
     "metadata": {},
     "output_type": "display_data"
    }
   ],
   "source": [
    "mean_price.plot(kind='line', \n",
    "                color='green',\n",
    "                figsize=(10,6), \n",
    "                marker='o'\n",
    "               )\n",
    "\n",
    "plt.title(\"Rata-rata Harga Jual Berdasarkan Wilayah\")\n",
    "plt.xlabel(\"BOROUGH\")\n",
    "plt.ylabel(\"SALE PRICE\")\n",
    "\n",
    "plt.show()"
   ]
  },
  {
   "cell_type": "markdown",
   "id": "ca355f31",
   "metadata": {},
   "source": [
    "Dari visualisasi diatas, dapat dilihat bahwa rata-rata SALE PRICE tertinggi ada di wilayah Brooklyn dengan nilai `8.423449e+05`.Sedangkan rata-rata SALE PRICE terendah ada di wilayah Manhatan dengan nilai `2.773636e+06`."
   ]
  },
  {
   "cell_type": "markdown",
   "id": "8e31a1f3",
   "metadata": {},
   "source": [
    "### Menghituung nilai rata-rata pada setiap data numerik berdasarkan kolom `BOROUGH`"
   ]
  },
  {
   "cell_type": "code",
   "execution_count": 71,
   "id": "28e39c62",
   "metadata": {
    "scrolled": true
   },
   "outputs": [
    {
     "name": "stderr",
     "output_type": "stream",
     "text": [
      "C:\\Users\\62857\\AppData\\Local\\Temp\\ipykernel_20900\\4287776484.py:1: FutureWarning: The default value of numeric_only in DataFrameGroupBy.mean is deprecated. In a future version, numeric_only will default to False. Either specify numeric_only or select only columns which should be valid for the function.\n",
      "  mean_num = dataframe.groupby('BOROUGH').mean()\n"
     ]
    },
    {
     "data": {
      "text/html": [
       "<div>\n",
       "<style scoped>\n",
       "    .dataframe tbody tr th:only-of-type {\n",
       "        vertical-align: middle;\n",
       "    }\n",
       "\n",
       "    .dataframe tbody tr th {\n",
       "        vertical-align: top;\n",
       "    }\n",
       "\n",
       "    .dataframe thead th {\n",
       "        text-align: right;\n",
       "    }\n",
       "</style>\n",
       "<table border=\"1\" class=\"dataframe\">\n",
       "  <thead>\n",
       "    <tr style=\"text-align: right;\">\n",
       "      <th></th>\n",
       "      <th>BLOCK</th>\n",
       "      <th>LOT</th>\n",
       "      <th>RESIDENTIAL UNITS</th>\n",
       "      <th>COMMERCIAL UNITS</th>\n",
       "      <th>TOTAL UNITS</th>\n",
       "      <th>LAND SQUARE FEET</th>\n",
       "      <th>GROSS SQUARE FEET</th>\n",
       "      <th>YEAR BUILT</th>\n",
       "      <th>SALE PRICE</th>\n",
       "    </tr>\n",
       "    <tr>\n",
       "      <th>BOROUGH</th>\n",
       "      <th></th>\n",
       "      <th></th>\n",
       "      <th></th>\n",
       "      <th></th>\n",
       "      <th></th>\n",
       "      <th></th>\n",
       "      <th></th>\n",
       "      <th></th>\n",
       "      <th></th>\n",
       "    </tr>\n",
       "  </thead>\n",
       "  <tbody>\n",
       "    <tr>\n",
       "      <th>Bronx</th>\n",
       "      <td>4204.104683</td>\n",
       "      <td>298.958471</td>\n",
       "      <td>3.348418</td>\n",
       "      <td>0.159387</td>\n",
       "      <td>3.514106</td>\n",
       "      <td>3909.008163</td>\n",
       "      <td>4494.309609</td>\n",
       "      <td>1750.280825</td>\n",
       "      <td>5.955543e+05</td>\n",
       "    </tr>\n",
       "    <tr>\n",
       "      <th>Brooklyn</th>\n",
       "      <td>4317.978492</td>\n",
       "      <td>339.924092</td>\n",
       "      <td>2.009494</td>\n",
       "      <td>0.145474</td>\n",
       "      <td>2.192187</td>\n",
       "      <td>2012.465406</td>\n",
       "      <td>2478.438941</td>\n",
       "      <td>1767.025625</td>\n",
       "      <td>8.423449e+05</td>\n",
       "    </tr>\n",
       "    <tr>\n",
       "      <th>Manhattan</th>\n",
       "      <td>1107.518968</td>\n",
       "      <td>750.958403</td>\n",
       "      <td>2.199501</td>\n",
       "      <td>0.281198</td>\n",
       "      <td>2.520521</td>\n",
       "      <td>2624.832169</td>\n",
       "      <td>4643.633777</td>\n",
       "      <td>1706.044481</td>\n",
       "      <td>2.773636e+06</td>\n",
       "    </tr>\n",
       "    <tr>\n",
       "      <th>Queens</th>\n",
       "      <td>6628.573959</td>\n",
       "      <td>230.947798</td>\n",
       "      <td>1.685654</td>\n",
       "      <td>0.190791</td>\n",
       "      <td>1.907721</td>\n",
       "      <td>3616.733550</td>\n",
       "      <td>2703.465476</td>\n",
       "      <td>1852.211226</td>\n",
       "      <td>6.753599e+05</td>\n",
       "    </tr>\n",
       "    <tr>\n",
       "      <th>Staten Island</th>\n",
       "      <td>3262.026281</td>\n",
       "      <td>198.796504</td>\n",
       "      <td>1.230259</td>\n",
       "      <td>0.080410</td>\n",
       "      <td>1.313321</td>\n",
       "      <td>7675.834117</td>\n",
       "      <td>2196.219168</td>\n",
       "      <td>1870.193611</td>\n",
       "      <td>5.398224e+05</td>\n",
       "    </tr>\n",
       "  </tbody>\n",
       "</table>\n",
       "</div>"
      ],
      "text/plain": [
       "                     BLOCK         LOT  RESIDENTIAL UNITS  COMMERCIAL UNITS  \\\n",
       "BOROUGH                                                                       \n",
       "Bronx          4204.104683  298.958471           3.348418          0.159387   \n",
       "Brooklyn       4317.978492  339.924092           2.009494          0.145474   \n",
       "Manhattan      1107.518968  750.958403           2.199501          0.281198   \n",
       "Queens         6628.573959  230.947798           1.685654          0.190791   \n",
       "Staten Island  3262.026281  198.796504           1.230259          0.080410   \n",
       "\n",
       "               TOTAL UNITS  LAND SQUARE FEET  GROSS SQUARE FEET   YEAR BUILT  \\\n",
       "BOROUGH                                                                        \n",
       "Bronx             3.514106       3909.008163        4494.309609  1750.280825   \n",
       "Brooklyn          2.192187       2012.465406        2478.438941  1767.025625   \n",
       "Manhattan         2.520521       2624.832169        4643.633777  1706.044481   \n",
       "Queens            1.907721       3616.733550        2703.465476  1852.211226   \n",
       "Staten Island     1.313321       7675.834117        2196.219168  1870.193611   \n",
       "\n",
       "                 SALE PRICE  \n",
       "BOROUGH                      \n",
       "Bronx          5.955543e+05  \n",
       "Brooklyn       8.423449e+05  \n",
       "Manhattan      2.773636e+06  \n",
       "Queens         6.753599e+05  \n",
       "Staten Island  5.398224e+05  "
      ]
     },
     "execution_count": 71,
     "metadata": {},
     "output_type": "execute_result"
    }
   ],
   "source": [
    "mean_num = dataframe.groupby('BOROUGH').mean()\n",
    "mean_num"
   ]
  },
  {
   "cell_type": "markdown",
   "id": "5d24b863",
   "metadata": {},
   "source": [
    "Berdasarkan data diatas wilayah memiliki rata rata tertinggi dan terendah pada setiap kolom tertentu \n",
    "\n",
    "- Wilayah Bronx memiliki rata-rata tertinggi pada kolom `SALE PRICE` dan terendah pada kolom `COMMERCIAL UNITS`\n",
    "- Wilayah Brooklyn memiliki rata-rata tertinggi pada kolom `SALE PRICE` dan terendah pada kolom `COMMERCIAL UNITS`\n",
    "- Wilayah Manhattan memiliki rata-rata tertinggi pada kolom `SALE PRICE` dan terendah pada kolom `COMMERCIAL UNITS`\n",
    "- Wilayah Queens memiliki rata-rata tertinggi pada kolom `SALE PRICE` dan terendah pada kolom `COMMERCIAL UNITS`\n",
    "- Wilayah Staten Island memiliki rata-rata tertinggi pada kolom `SALE PRICE` dan terendah pada kolom `COMMERCIAL UNITS`\n"
   ]
  },
  {
   "cell_type": "markdown",
   "id": "531c2704",
   "metadata": {},
   "source": [
    "Mencari nilai max min "
   ]
  },
  {
   "cell_type": "code",
   "execution_count": 79,
   "id": "7ab75fb3",
   "metadata": {},
   "outputs": [
    {
     "name": "stdout",
     "output_type": "stream",
     "text": [
      "Angka yang paling tinggi adalah: 2773636.0\n",
      "Angka yang paling rendah adalah: 0.281198\n"
     ]
    }
   ],
   "source": [
    "angka = [1107.518968,750.958403,2.199501,0.281198,2.520521,2624.832169,4643.633777,1706.044481,2.773636e+06]\n",
    "\n",
    "nilai_tertinggi = max(angka)\n",
    "print(\"Angka yang paling tinggi adalah:\", nilai_tertinggi)\n",
    "\n",
    "nilai_terendah = min(angka)\n",
    "print(\"Angka yang paling rendah adalah:\", nilai_terendah)\n"
   ]
  },
  {
   "cell_type": "markdown",
   "id": "1e48200f",
   "metadata": {},
   "source": [
    "## Median\n",
    "\n",
    "Menghitung nilai tengah `SALE PRICE` pada setiap data di kolom `BOROUGH`"
   ]
  },
  {
   "cell_type": "code",
   "execution_count": 81,
   "id": "6fb7cb01",
   "metadata": {},
   "outputs": [
    {
     "data": {
      "text/html": [
       "<div>\n",
       "<style scoped>\n",
       "    .dataframe tbody tr th:only-of-type {\n",
       "        vertical-align: middle;\n",
       "    }\n",
       "\n",
       "    .dataframe tbody tr th {\n",
       "        vertical-align: top;\n",
       "    }\n",
       "\n",
       "    .dataframe thead th {\n",
       "        text-align: right;\n",
       "    }\n",
       "</style>\n",
       "<table border=\"1\" class=\"dataframe\">\n",
       "  <thead>\n",
       "    <tr style=\"text-align: right;\">\n",
       "      <th></th>\n",
       "      <th>SALE PRICE</th>\n",
       "    </tr>\n",
       "    <tr>\n",
       "      <th>BOROUGH</th>\n",
       "      <th></th>\n",
       "    </tr>\n",
       "  </thead>\n",
       "  <tbody>\n",
       "    <tr>\n",
       "      <th>Bronx</th>\n",
       "      <td>275000.0</td>\n",
       "    </tr>\n",
       "    <tr>\n",
       "      <th>Brooklyn</th>\n",
       "      <td>429000.0</td>\n",
       "    </tr>\n",
       "    <tr>\n",
       "      <th>Manhattan</th>\n",
       "      <td>850000.0</td>\n",
       "    </tr>\n",
       "    <tr>\n",
       "      <th>Queens</th>\n",
       "      <td>530000.0</td>\n",
       "    </tr>\n",
       "    <tr>\n",
       "      <th>Staten Island</th>\n",
       "      <td>530000.0</td>\n",
       "    </tr>\n",
       "  </tbody>\n",
       "</table>\n",
       "</div>"
      ],
      "text/plain": [
       "               SALE PRICE\n",
       "BOROUGH                  \n",
       "Bronx            275000.0\n",
       "Brooklyn         429000.0\n",
       "Manhattan        850000.0\n",
       "Queens           530000.0\n",
       "Staten Island    530000.0"
      ]
     },
     "execution_count": 81,
     "metadata": {},
     "output_type": "execute_result"
    }
   ],
   "source": [
    "median_price = dataframe.groupby('BOROUGH').agg({'SALE PRICE':np.median})\n",
    "median_price"
   ]
  },
  {
   "cell_type": "code",
   "execution_count": 86,
   "id": "6dbb72f9",
   "metadata": {},
   "outputs": [
    {
     "data": {
      "image/png": "[encoded data removed]",
      "text/plain": [
       "<Figure size 1000x600 with 1 Axes>"
      ]
     },
     "metadata": {},
     "output_type": "display_data"
    }
   ],
   "source": [
    "median_price.plot(kind='line', \n",
    "                color='grey',\n",
    "                figsize=(10,6), \n",
    "                legend = False,\n",
    "                marker='o'\n",
    "               )\n",
    "\n",
    "plt.title(\"Median Harga Jual Berdasarkan Wilayah\")\n",
    "plt.xlabel(\"BOROUGH\")\n",
    "plt.ylabel(\"SALE PRICE\")\n",
    "\n",
    "plt.show()"
   ]
  },
  {
   "cell_type": "markdown",
   "id": "05a94129",
   "metadata": {},
   "source": [
    "Berdasarkan visualisasi diatas dapat dilihat bahwa median `SALE PRICE` tertinggi ada di wilayah Manhattan dengan nilai 850000.0. Sedangkan median `SALES PRICE` ada di wilayah Bronx dengan nilai 275000.0."
   ]
  },
  {
   "cell_type": "markdown",
   "id": "d57c6410",
   "metadata": {},
   "source": [
    "Menghitung nilai tengan pada setiap data numerik berdasarkan kolom `BOROUGH`"
   ]
  },
  {
   "cell_type": "code",
   "execution_count": 88,
   "id": "81af1539",
   "metadata": {},
   "outputs": [
    {
     "name": "stderr",
     "output_type": "stream",
     "text": [
      "C:\\Users\\62857\\AppData\\Local\\Temp\\ipykernel_20900\\871481542.py:1: FutureWarning: The default value of numeric_only in DataFrameGroupBy.median is deprecated. In a future version, numeric_only will default to False. Either specify numeric_only or select only columns which should be valid for the function.\n",
      "  median_num = dataframe.groupby('BOROUGH').median()\n"
     ]
    },
    {
     "data": {
      "text/html": [
       "<div>\n",
       "<style scoped>\n",
       "    .dataframe tbody tr th:only-of-type {\n",
       "        vertical-align: middle;\n",
       "    }\n",
       "\n",
       "    .dataframe tbody tr th {\n",
       "        vertical-align: top;\n",
       "    }\n",
       "\n",
       "    .dataframe thead th {\n",
       "        text-align: right;\n",
       "    }\n",
       "</style>\n",
       "<table border=\"1\" class=\"dataframe\">\n",
       "  <thead>\n",
       "    <tr style=\"text-align: right;\">\n",
       "      <th></th>\n",
       "      <th>BLOCK</th>\n",
       "      <th>LOT</th>\n",
       "      <th>RESIDENTIAL UNITS</th>\n",
       "      <th>COMMERCIAL UNITS</th>\n",
       "      <th>TOTAL UNITS</th>\n",
       "      <th>LAND SQUARE FEET</th>\n",
       "      <th>GROSS SQUARE FEET</th>\n",
       "      <th>YEAR BUILT</th>\n",
       "      <th>SALE PRICE</th>\n",
       "    </tr>\n",
       "    <tr>\n",
       "      <th>BOROUGH</th>\n",
       "      <th></th>\n",
       "      <th></th>\n",
       "      <th></th>\n",
       "      <th></th>\n",
       "      <th></th>\n",
       "      <th></th>\n",
       "      <th></th>\n",
       "      <th></th>\n",
       "      <th></th>\n",
       "    </tr>\n",
       "  </thead>\n",
       "  <tbody>\n",
       "    <tr>\n",
       "      <th>Bronx</th>\n",
       "      <td>4178.0</td>\n",
       "      <td>47.0</td>\n",
       "      <td>1.0</td>\n",
       "      <td>0.0</td>\n",
       "      <td>1.0</td>\n",
       "      <td>2375.0</td>\n",
       "      <td>1764.0</td>\n",
       "      <td>1932.0</td>\n",
       "      <td>275000.0</td>\n",
       "    </tr>\n",
       "    <tr>\n",
       "      <th>Brooklyn</th>\n",
       "      <td>4549.0</td>\n",
       "      <td>50.0</td>\n",
       "      <td>1.0</td>\n",
       "      <td>0.0</td>\n",
       "      <td>1.0</td>\n",
       "      <td>1800.0</td>\n",
       "      <td>1520.0</td>\n",
       "      <td>1930.0</td>\n",
       "      <td>429000.0</td>\n",
       "    </tr>\n",
       "    <tr>\n",
       "      <th>Manhattan</th>\n",
       "      <td>1170.0</td>\n",
       "      <td>1004.0</td>\n",
       "      <td>0.0</td>\n",
       "      <td>0.0</td>\n",
       "      <td>1.0</td>\n",
       "      <td>2325.0</td>\n",
       "      <td>1680.0</td>\n",
       "      <td>1937.0</td>\n",
       "      <td>850000.0</td>\n",
       "    </tr>\n",
       "    <tr>\n",
       "      <th>Queens</th>\n",
       "      <td>5900.0</td>\n",
       "      <td>40.0</td>\n",
       "      <td>1.0</td>\n",
       "      <td>0.0</td>\n",
       "      <td>1.0</td>\n",
       "      <td>2325.0</td>\n",
       "      <td>1680.0</td>\n",
       "      <td>1945.0</td>\n",
       "      <td>530000.0</td>\n",
       "    </tr>\n",
       "    <tr>\n",
       "      <th>Staten Island</th>\n",
       "      <td>3024.0</td>\n",
       "      <td>56.0</td>\n",
       "      <td>1.0</td>\n",
       "      <td>0.0</td>\n",
       "      <td>1.0</td>\n",
       "      <td>3206.0</td>\n",
       "      <td>1680.0</td>\n",
       "      <td>1973.0</td>\n",
       "      <td>530000.0</td>\n",
       "    </tr>\n",
       "  </tbody>\n",
       "</table>\n",
       "</div>"
      ],
      "text/plain": [
       "                BLOCK     LOT  RESIDENTIAL UNITS  COMMERCIAL UNITS  \\\n",
       "BOROUGH                                                              \n",
       "Bronx          4178.0    47.0                1.0               0.0   \n",
       "Brooklyn       4549.0    50.0                1.0               0.0   \n",
       "Manhattan      1170.0  1004.0                0.0               0.0   \n",
       "Queens         5900.0    40.0                1.0               0.0   \n",
       "Staten Island  3024.0    56.0                1.0               0.0   \n",
       "\n",
       "               TOTAL UNITS  LAND SQUARE FEET  GROSS SQUARE FEET  YEAR BUILT  \\\n",
       "BOROUGH                                                                       \n",
       "Bronx                  1.0            2375.0             1764.0      1932.0   \n",
       "Brooklyn               1.0            1800.0             1520.0      1930.0   \n",
       "Manhattan              1.0            2325.0             1680.0      1937.0   \n",
       "Queens                 1.0            2325.0             1680.0      1945.0   \n",
       "Staten Island          1.0            3206.0             1680.0      1973.0   \n",
       "\n",
       "               SALE PRICE  \n",
       "BOROUGH                    \n",
       "Bronx            275000.0  \n",
       "Brooklyn         429000.0  \n",
       "Manhattan        850000.0  \n",
       "Queens           530000.0  \n",
       "Staten Island    530000.0  "
      ]
     },
     "execution_count": 88,
     "metadata": {},
     "output_type": "execute_result"
    }
   ],
   "source": [
    "median_num = dataframe.groupby('BOROUGH').median()\n",
    "median_num"
   ]
  },
  {
   "cell_type": "markdown",
   "id": "7feedb20",
   "metadata": {},
   "source": [
    "Berdasarkan tabel diatas dapat dilihat bahwa\n",
    "- Nilai `COMMERCIAL UNITS` di seluruh wilayah memiliki nilai 0\n",
    "- Wilayah Manhattan memiliki nilai median tertinggi dan berbeda jauh dengan wilayahnya pada kolom `LOT` dengan niuilai 1004,0.\n",
    "- Seluruh wilayah memiliki nilai median yang sama yaitu pada kolom `TOTAL UNITS` dengan nilai 1."
   ]
  },
  {
   "cell_type": "markdown",
   "id": "8d26e95c",
   "metadata": {},
   "source": [
    "## Modus "
   ]
  },
  {
   "cell_type": "markdown",
   "id": "9be75043",
   "metadata": {},
   "source": [
    "Membuat variabel df_modus yang berisi data dari kolom `BOROUGH`, `NEIGHBORHOOD`, dan `BUILDING CLASS CATEGORY`"
   ]
  },
  {
   "cell_type": "code",
   "execution_count": 89,
   "id": "56d84fa1",
   "metadata": {},
   "outputs": [
    {
     "data": {
      "text/html": [
       "<div>\n",
       "<style scoped>\n",
       "    .dataframe tbody tr th:only-of-type {\n",
       "        vertical-align: middle;\n",
       "    }\n",
       "\n",
       "    .dataframe tbody tr th {\n",
       "        vertical-align: top;\n",
       "    }\n",
       "\n",
       "    .dataframe thead th {\n",
       "        text-align: right;\n",
       "    }\n",
       "</style>\n",
       "<table border=\"1\" class=\"dataframe\">\n",
       "  <thead>\n",
       "    <tr style=\"text-align: right;\">\n",
       "      <th></th>\n",
       "      <th>BOROUGH</th>\n",
       "      <th>NEIGHBORHOOD</th>\n",
       "      <th>BUILDING CLASS CATEGORY</th>\n",
       "    </tr>\n",
       "  </thead>\n",
       "  <tbody>\n",
       "    <tr>\n",
       "      <th>0</th>\n",
       "      <td>Manhattan</td>\n",
       "      <td>ALPHABET CITY</td>\n",
       "      <td>07 RENTALS - WALKUP APARTMENTS</td>\n",
       "    </tr>\n",
       "    <tr>\n",
       "      <th>1</th>\n",
       "      <td>Manhattan</td>\n",
       "      <td>ALPHABET CITY</td>\n",
       "      <td>07 RENTALS - WALKUP APARTMENTS</td>\n",
       "    </tr>\n",
       "    <tr>\n",
       "      <th>2</th>\n",
       "      <td>Manhattan</td>\n",
       "      <td>ALPHABET CITY</td>\n",
       "      <td>07 RENTALS - WALKUP APARTMENTS</td>\n",
       "    </tr>\n",
       "    <tr>\n",
       "      <th>3</th>\n",
       "      <td>Manhattan</td>\n",
       "      <td>ALPHABET CITY</td>\n",
       "      <td>07 RENTALS - WALKUP APARTMENTS</td>\n",
       "    </tr>\n",
       "    <tr>\n",
       "      <th>4</th>\n",
       "      <td>Manhattan</td>\n",
       "      <td>ALPHABET CITY</td>\n",
       "      <td>07 RENTALS - WALKUP APARTMENTS</td>\n",
       "    </tr>\n",
       "    <tr>\n",
       "      <th>...</th>\n",
       "      <td>...</td>\n",
       "      <td>...</td>\n",
       "      <td>...</td>\n",
       "    </tr>\n",
       "    <tr>\n",
       "      <th>84543</th>\n",
       "      <td>Staten Island</td>\n",
       "      <td>WOODROW</td>\n",
       "      <td>02 TWO FAMILY DWELLINGS</td>\n",
       "    </tr>\n",
       "    <tr>\n",
       "      <th>84544</th>\n",
       "      <td>Staten Island</td>\n",
       "      <td>WOODROW</td>\n",
       "      <td>02 TWO FAMILY DWELLINGS</td>\n",
       "    </tr>\n",
       "    <tr>\n",
       "      <th>84545</th>\n",
       "      <td>Staten Island</td>\n",
       "      <td>WOODROW</td>\n",
       "      <td>02 TWO FAMILY DWELLINGS</td>\n",
       "    </tr>\n",
       "    <tr>\n",
       "      <th>84546</th>\n",
       "      <td>Staten Island</td>\n",
       "      <td>WOODROW</td>\n",
       "      <td>22 STORE BUILDINGS</td>\n",
       "    </tr>\n",
       "    <tr>\n",
       "      <th>84547</th>\n",
       "      <td>Staten Island</td>\n",
       "      <td>WOODROW</td>\n",
       "      <td>35 INDOOR PUBLIC AND CULTURAL FACILITIES</td>\n",
       "    </tr>\n",
       "  </tbody>\n",
       "</table>\n",
       "<p>83587 rows × 3 columns</p>\n",
       "</div>"
      ],
      "text/plain": [
       "             BOROUGH   NEIGHBORHOOD  \\\n",
       "0          Manhattan  ALPHABET CITY   \n",
       "1          Manhattan  ALPHABET CITY   \n",
       "2          Manhattan  ALPHABET CITY   \n",
       "3          Manhattan  ALPHABET CITY   \n",
       "4          Manhattan  ALPHABET CITY   \n",
       "...              ...            ...   \n",
       "84543  Staten Island        WOODROW   \n",
       "84544  Staten Island        WOODROW   \n",
       "84545  Staten Island        WOODROW   \n",
       "84546  Staten Island        WOODROW   \n",
       "84547  Staten Island        WOODROW   \n",
       "\n",
       "                           BUILDING CLASS CATEGORY  \n",
       "0      07 RENTALS - WALKUP APARTMENTS               \n",
       "1      07 RENTALS - WALKUP APARTMENTS               \n",
       "2      07 RENTALS - WALKUP APARTMENTS               \n",
       "3      07 RENTALS - WALKUP APARTMENTS               \n",
       "4      07 RENTALS - WALKUP APARTMENTS               \n",
       "...                                            ...  \n",
       "84543  02 TWO FAMILY DWELLINGS                      \n",
       "84544  02 TWO FAMILY DWELLINGS                      \n",
       "84545  02 TWO FAMILY DWELLINGS                      \n",
       "84546  22 STORE BUILDINGS                           \n",
       "84547  35 INDOOR PUBLIC AND CULTURAL FACILITIES     \n",
       "\n",
       "[83587 rows x 3 columns]"
      ]
     },
     "execution_count": 89,
     "metadata": {},
     "output_type": "execute_result"
    }
   ],
   "source": [
    "df_modus = dataframe.loc[:,['BOROUGH', 'NEIGHBORHOOD', 'BUILDING CLASS CATEGORY']]\n",
    "df_modus"
   ]
  },
  {
   "cell_type": "markdown",
   "id": "e11ca773",
   "metadata": {},
   "source": [
    "Melihat nilai yang sering muncul dari variable `df_modus`"
   ]
  },
  {
   "cell_type": "code",
   "execution_count": 91,
   "id": "0fca4f7c",
   "metadata": {},
   "outputs": [
    {
     "data": {
      "text/html": [
       "<div>\n",
       "<style scoped>\n",
       "    .dataframe tbody tr th:only-of-type {\n",
       "        vertical-align: middle;\n",
       "    }\n",
       "\n",
       "    .dataframe tbody tr th {\n",
       "        vertical-align: top;\n",
       "    }\n",
       "\n",
       "    .dataframe thead th {\n",
       "        text-align: right;\n",
       "    }\n",
       "</style>\n",
       "<table border=\"1\" class=\"dataframe\">\n",
       "  <thead>\n",
       "    <tr style=\"text-align: right;\">\n",
       "      <th></th>\n",
       "      <th>BOROUGH</th>\n",
       "      <th>NEIGHBORHOOD</th>\n",
       "      <th>BUILDING CLASS CATEGORY</th>\n",
       "    </tr>\n",
       "  </thead>\n",
       "  <tbody>\n",
       "    <tr>\n",
       "      <th>0</th>\n",
       "      <td>Queens</td>\n",
       "      <td>FLUSHING-NORTH</td>\n",
       "      <td>01 ONE FAMILY DWELLINGS</td>\n",
       "    </tr>\n",
       "  </tbody>\n",
       "</table>\n",
       "</div>"
      ],
      "text/plain": [
       "  BOROUGH    NEIGHBORHOOD                      BUILDING CLASS CATEGORY\n",
       "0  Queens  FLUSHING-NORTH  01 ONE FAMILY DWELLINGS                    "
      ]
     },
     "execution_count": 91,
     "metadata": {},
     "output_type": "execute_result"
    }
   ],
   "source": [
    "df_modus.mode()"
   ]
  },
  {
   "cell_type": "markdown",
   "id": "c8c299fa",
   "metadata": {},
   "source": [
    "Berdasarkan data yang berada di variable `df_modus`, maka \n",
    "- Modus dari kolom `BOROUGH` yaitu Queens.\n",
    "- Modus dari kolom `NEIGHBORHOOD` yaitu FLUSHING-NORTH.\n",
    "- Modus dari kolom `BUILDING CLASS CATEGORY` yaitu 01 ONE FAMILY DWELLINGS."
   ]
  },
  {
   "cell_type": "markdown",
   "id": "cff05264",
   "metadata": {},
   "source": [
    "# Measure of Spread"
   ]
  },
  {
   "cell_type": "markdown",
   "id": "2e3e7a4d",
   "metadata": {},
   "source": [
    "## Range\n",
    "Membuat variabel 'df_spread' yang berisi nilai mean dari kolom `LAND SQUARE FEET` dan `GROSS SQUARE FEET` berdasarkan `BOROUGH`"
   ]
  },
  {
   "cell_type": "code",
   "execution_count": 94,
   "id": "fce0e8db",
   "metadata": {},
   "outputs": [
    {
     "data": {
      "text/html": [
       "<div>\n",
       "<style scoped>\n",
       "    .dataframe tbody tr th:only-of-type {\n",
       "        vertical-align: middle;\n",
       "    }\n",
       "\n",
       "    .dataframe tbody tr th {\n",
       "        vertical-align: top;\n",
       "    }\n",
       "\n",
       "    .dataframe thead th {\n",
       "        text-align: right;\n",
       "    }\n",
       "</style>\n",
       "<table border=\"1\" class=\"dataframe\">\n",
       "  <thead>\n",
       "    <tr style=\"text-align: right;\">\n",
       "      <th></th>\n",
       "      <th>LAND SQUARE FEET</th>\n",
       "      <th>GROSS SQUARE FEET</th>\n",
       "    </tr>\n",
       "    <tr>\n",
       "      <th>BOROUGH</th>\n",
       "      <th></th>\n",
       "      <th></th>\n",
       "    </tr>\n",
       "  </thead>\n",
       "  <tbody>\n",
       "    <tr>\n",
       "      <th>Bronx</th>\n",
       "      <td>3909.008163</td>\n",
       "      <td>4494.309609</td>\n",
       "    </tr>\n",
       "    <tr>\n",
       "      <th>Brooklyn</th>\n",
       "      <td>2012.465406</td>\n",
       "      <td>2478.438941</td>\n",
       "    </tr>\n",
       "    <tr>\n",
       "      <th>Manhattan</th>\n",
       "      <td>2624.832169</td>\n",
       "      <td>4643.633777</td>\n",
       "    </tr>\n",
       "    <tr>\n",
       "      <th>Queens</th>\n",
       "      <td>3616.733550</td>\n",
       "      <td>2703.465476</td>\n",
       "    </tr>\n",
       "    <tr>\n",
       "      <th>Staten Island</th>\n",
       "      <td>7675.834117</td>\n",
       "      <td>2196.219168</td>\n",
       "    </tr>\n",
       "  </tbody>\n",
       "</table>\n",
       "</div>"
      ],
      "text/plain": [
       "               LAND SQUARE FEET  GROSS SQUARE FEET\n",
       "BOROUGH                                           \n",
       "Bronx               3909.008163        4494.309609\n",
       "Brooklyn            2012.465406        2478.438941\n",
       "Manhattan           2624.832169        4643.633777\n",
       "Queens              3616.733550        2703.465476\n",
       "Staten Island       7675.834117        2196.219168"
      ]
     },
     "execution_count": 94,
     "metadata": {},
     "output_type": "execute_result"
    }
   ],
   "source": [
    "df_spread = dataframe[['BOROUGH','LAND SQUARE FEET','GROSS SQUARE FEET']].groupby('BOROUGH').mean()\n",
    "df_spread"
   ]
  },
  {
   "cell_type": "markdown",
   "id": "3b415a26",
   "metadata": {},
   "source": [
    "#### Mencari nilai range dari kolom `LAND SQUARE FEET` dan `GROSS SQUARE FEET`"
   ]
  },
  {
   "cell_type": "code",
   "execution_count": 104,
   "id": "47e20577",
   "metadata": {},
   "outputs": [
    {
     "name": "stdout",
     "output_type": "stream",
     "text": [
      "Nilai Range LAND SQUARE FEET : 5663.368710510694\n",
      "Nilai Range GROSS SQUARE FEET : 2447.414608864671\n"
     ]
    }
   ],
   "source": [
    "range_lsf = np.ptp(df_spread['LAND SQUARE FEET'])\n",
    "range_gsf = np.ptp(df_spread['GROSS SQUARE FEET'])\n",
    "\n",
    "print(\"Nilai Range LAND SQUARE FEET :\", range_lsf)\n",
    "print(\"Nilai Range GROSS SQUARE FEET :\", range_gsf)"
   ]
  },
  {
   "cell_type": "markdown",
   "id": "bf638713",
   "metadata": {},
   "source": [
    "Berdasarkan data yang didapat dari variable `df_spread`, maka\n",
    "- Range dari kolom `LAND SQUARE FEET` berdasarkan BOROUGH adalah : 5663.368710510694.\n",
    "- Range dari kolom `GROSS SQUARE FEET` berdasarkan BOROUGH adalah : 2447.414608864671."
   ]
  },
  {
   "cell_type": "markdown",
   "id": "520366f4",
   "metadata": {},
   "source": [
    "## Variance\n",
    "Menampilkan data dari variable `df_spread`"
   ]
  },
  {
   "cell_type": "code",
   "execution_count": 97,
   "id": "aeefa973",
   "metadata": {},
   "outputs": [
    {
     "data": {
      "text/html": [
       "<div>\n",
       "<style scoped>\n",
       "    .dataframe tbody tr th:only-of-type {\n",
       "        vertical-align: middle;\n",
       "    }\n",
       "\n",
       "    .dataframe tbody tr th {\n",
       "        vertical-align: top;\n",
       "    }\n",
       "\n",
       "    .dataframe thead th {\n",
       "        text-align: right;\n",
       "    }\n",
       "</style>\n",
       "<table border=\"1\" class=\"dataframe\">\n",
       "  <thead>\n",
       "    <tr style=\"text-align: right;\">\n",
       "      <th></th>\n",
       "      <th>LAND SQUARE FEET</th>\n",
       "      <th>GROSS SQUARE FEET</th>\n",
       "    </tr>\n",
       "    <tr>\n",
       "      <th>BOROUGH</th>\n",
       "      <th></th>\n",
       "      <th></th>\n",
       "    </tr>\n",
       "  </thead>\n",
       "  <tbody>\n",
       "    <tr>\n",
       "      <th>Bronx</th>\n",
       "      <td>3909.008163</td>\n",
       "      <td>4494.309609</td>\n",
       "    </tr>\n",
       "    <tr>\n",
       "      <th>Brooklyn</th>\n",
       "      <td>2012.465406</td>\n",
       "      <td>2478.438941</td>\n",
       "    </tr>\n",
       "    <tr>\n",
       "      <th>Manhattan</th>\n",
       "      <td>2624.832169</td>\n",
       "      <td>4643.633777</td>\n",
       "    </tr>\n",
       "    <tr>\n",
       "      <th>Queens</th>\n",
       "      <td>3616.733550</td>\n",
       "      <td>2703.465476</td>\n",
       "    </tr>\n",
       "    <tr>\n",
       "      <th>Staten Island</th>\n",
       "      <td>7675.834117</td>\n",
       "      <td>2196.219168</td>\n",
       "    </tr>\n",
       "  </tbody>\n",
       "</table>\n",
       "</div>"
      ],
      "text/plain": [
       "               LAND SQUARE FEET  GROSS SQUARE FEET\n",
       "BOROUGH                                           \n",
       "Bronx               3909.008163        4494.309609\n",
       "Brooklyn            2012.465406        2478.438941\n",
       "Manhattan           2624.832169        4643.633777\n",
       "Queens              3616.733550        2703.465476\n",
       "Staten Island       7675.834117        2196.219168"
      ]
     },
     "execution_count": 97,
     "metadata": {},
     "output_type": "execute_result"
    }
   ],
   "source": [
    "df_spread"
   ]
  },
  {
   "cell_type": "markdown",
   "id": "766dccff",
   "metadata": {},
   "source": [
    "#### Mencari nilai variansi dari kolom `LAND SQUARE FEET` dan `GROSS SQUARE FEET`"
   ]
  },
  {
   "cell_type": "code",
   "execution_count": 103,
   "id": "49955f9e",
   "metadata": {},
   "outputs": [
    {
     "name": "stdout",
     "output_type": "stream",
     "text": [
      "Nilai Variansi LAND SQUARE FEET : 4875779.2776673315\n",
      "Nilai Variansi GROSS SQUARE FEET : 1370205.9190301765\n"
     ]
    }
   ],
   "source": [
    "variance_lsf = statistics.variance(df_spread['LAND SQUARE FEET'])\n",
    "variance_gsf = statistics.variance(df_spread['GROSS SQUARE FEET'])\n",
    "\n",
    "print(\"Nilai Variansi LAND SQUARE FEET :\", variance_lsf)\n",
    "print(\"Nilai Variansi GROSS SQUARE FEET :\", variance_gsf)"
   ]
  },
  {
   "cell_type": "markdown",
   "id": "390e32fb",
   "metadata": {},
   "source": [
    "## Standard Deviation\n",
    "Menampilkan data dari variable `df_spread`"
   ]
  },
  {
   "cell_type": "code",
   "execution_count": 100,
   "id": "6e204fa4",
   "metadata": {},
   "outputs": [
    {
     "data": {
      "text/html": [
       "<div>\n",
       "<style scoped>\n",
       "    .dataframe tbody tr th:only-of-type {\n",
       "        vertical-align: middle;\n",
       "    }\n",
       "\n",
       "    .dataframe tbody tr th {\n",
       "        vertical-align: top;\n",
       "    }\n",
       "\n",
       "    .dataframe thead th {\n",
       "        text-align: right;\n",
       "    }\n",
       "</style>\n",
       "<table border=\"1\" class=\"dataframe\">\n",
       "  <thead>\n",
       "    <tr style=\"text-align: right;\">\n",
       "      <th></th>\n",
       "      <th>LAND SQUARE FEET</th>\n",
       "      <th>GROSS SQUARE FEET</th>\n",
       "    </tr>\n",
       "    <tr>\n",
       "      <th>BOROUGH</th>\n",
       "      <th></th>\n",
       "      <th></th>\n",
       "    </tr>\n",
       "  </thead>\n",
       "  <tbody>\n",
       "    <tr>\n",
       "      <th>Bronx</th>\n",
       "      <td>3909.008163</td>\n",
       "      <td>4494.309609</td>\n",
       "    </tr>\n",
       "    <tr>\n",
       "      <th>Brooklyn</th>\n",
       "      <td>2012.465406</td>\n",
       "      <td>2478.438941</td>\n",
       "    </tr>\n",
       "    <tr>\n",
       "      <th>Manhattan</th>\n",
       "      <td>2624.832169</td>\n",
       "      <td>4643.633777</td>\n",
       "    </tr>\n",
       "    <tr>\n",
       "      <th>Queens</th>\n",
       "      <td>3616.733550</td>\n",
       "      <td>2703.465476</td>\n",
       "    </tr>\n",
       "    <tr>\n",
       "      <th>Staten Island</th>\n",
       "      <td>7675.834117</td>\n",
       "      <td>2196.219168</td>\n",
       "    </tr>\n",
       "  </tbody>\n",
       "</table>\n",
       "</div>"
      ],
      "text/plain": [
       "               LAND SQUARE FEET  GROSS SQUARE FEET\n",
       "BOROUGH                                           \n",
       "Bronx               3909.008163        4494.309609\n",
       "Brooklyn            2012.465406        2478.438941\n",
       "Manhattan           2624.832169        4643.633777\n",
       "Queens              3616.733550        2703.465476\n",
       "Staten Island       7675.834117        2196.219168"
      ]
     },
     "execution_count": 100,
     "metadata": {},
     "output_type": "execute_result"
    }
   ],
   "source": [
    "df_spread"
   ]
  },
  {
   "cell_type": "markdown",
   "id": "536d2db3",
   "metadata": {},
   "source": [
    "#### Mencari nilai Standard Deviasi dari kolom `LAND SQUARE FEET` dan `GROSS SQUARE FEET`"
   ]
  },
  {
   "cell_type": "code",
   "execution_count": 102,
   "id": "8b04a2d8",
   "metadata": {},
   "outputs": [
    {
     "name": "stdout",
     "output_type": "stream",
     "text": [
      "Nilai stdev LAND SQUARE FEET : 2208.1166811713847\n",
      "Nilai stdev GROSS SQUARE FEET : 1170.5579520169758\n"
     ]
    }
   ],
   "source": [
    "std_lsf = statistics.stdev(df_spread['LAND SQUARE FEET'])\n",
    "std_gsf = statistics.stdev(df_spread['GROSS SQUARE FEET'])\n",
    "\n",
    "print(\"Nilai stdev LAND SQUARE FEET :\", std_lsf)\n",
    "print(\"Nilai stdev GROSS SQUARE FEET :\", std_gsf)"
   ]
  },
  {
   "cell_type": "markdown",
   "id": "1fbcb542",
   "metadata": {},
   "source": [
    "Berdasarkan data yang didapat dari variable `df_spread`, maka\n",
    "- Nilai standard deviasi dari kolom `LAND SQUARE FEET` berdasarkan BOROUGH adalah : 2208.1166811713847.\n",
    "- Nilai standard deviasi dari kolom `GROSS SQUARE FEET` berdasarkan BOROUGH adalah : 1170.5579520169758."
   ]
  },
  {
   "cell_type": "markdown",
   "id": "49d19b31",
   "metadata": {},
   "source": [
    "# Probability Distribution\n",
    "\n",
    "Membuat variabel 'df_prod' yang berisi kolom `BOROUGH`, `BLOCK`, `LOT`, `SALE PRICE`, `TAX CLASS AT TIME OF SALE`"
   ]
  },
  {
   "cell_type": "code",
   "execution_count": 105,
   "id": "340c8e97",
   "metadata": {},
   "outputs": [
    {
     "data": {
      "text/html": [
       "<div>\n",
       "<style scoped>\n",
       "    .dataframe tbody tr th:only-of-type {\n",
       "        vertical-align: middle;\n",
       "    }\n",
       "\n",
       "    .dataframe tbody tr th {\n",
       "        vertical-align: top;\n",
       "    }\n",
       "\n",
       "    .dataframe thead th {\n",
       "        text-align: right;\n",
       "    }\n",
       "</style>\n",
       "<table border=\"1\" class=\"dataframe\">\n",
       "  <thead>\n",
       "    <tr style=\"text-align: right;\">\n",
       "      <th></th>\n",
       "      <th>BOROUGH</th>\n",
       "      <th>BLOCK</th>\n",
       "      <th>LOT</th>\n",
       "      <th>SALE PRICE</th>\n",
       "      <th>TAX CLASS AT TIME OF SALE</th>\n",
       "    </tr>\n",
       "  </thead>\n",
       "  <tbody>\n",
       "    <tr>\n",
       "      <th>0</th>\n",
       "      <td>Manhattan</td>\n",
       "      <td>392</td>\n",
       "      <td>6</td>\n",
       "      <td>6625000.0</td>\n",
       "      <td>2</td>\n",
       "    </tr>\n",
       "    <tr>\n",
       "      <th>1</th>\n",
       "      <td>Manhattan</td>\n",
       "      <td>399</td>\n",
       "      <td>26</td>\n",
       "      <td>530000.0</td>\n",
       "      <td>2</td>\n",
       "    </tr>\n",
       "    <tr>\n",
       "      <th>2</th>\n",
       "      <td>Manhattan</td>\n",
       "      <td>399</td>\n",
       "      <td>39</td>\n",
       "      <td>530000.0</td>\n",
       "      <td>2</td>\n",
       "    </tr>\n",
       "    <tr>\n",
       "      <th>3</th>\n",
       "      <td>Manhattan</td>\n",
       "      <td>402</td>\n",
       "      <td>21</td>\n",
       "      <td>3936272.0</td>\n",
       "      <td>2</td>\n",
       "    </tr>\n",
       "    <tr>\n",
       "      <th>4</th>\n",
       "      <td>Manhattan</td>\n",
       "      <td>404</td>\n",
       "      <td>55</td>\n",
       "      <td>8000000.0</td>\n",
       "      <td>2</td>\n",
       "    </tr>\n",
       "  </tbody>\n",
       "</table>\n",
       "</div>"
      ],
      "text/plain": [
       "     BOROUGH  BLOCK  LOT  SALE PRICE TAX CLASS AT TIME OF SALE\n",
       "0  Manhattan    392    6   6625000.0                         2\n",
       "1  Manhattan    399   26    530000.0                         2\n",
       "2  Manhattan    399   39    530000.0                         2\n",
       "3  Manhattan    402   21   3936272.0                         2\n",
       "4  Manhattan    404   55   8000000.0                         2"
      ]
     },
     "execution_count": 105,
     "metadata": {},
     "output_type": "execute_result"
    }
   ],
   "source": [
    "df_prod = dataframe.loc[:, ['BOROUGH', 'BLOCK', 'LOT', 'SALE PRICE', 'TAX CLASS AT TIME OF SALE']]\n",
    "df_prod.head()"
   ]
  },
  {
   "cell_type": "code",
   "execution_count": 112,
   "id": "94475d4f",
   "metadata": {},
   "outputs": [
    {
     "data": {
      "image/png": "[encoded data removed]",
      "text/plain": [
       "<Figure size 800x600 with 1 Axes>"
      ]
     },
     "metadata": {},
     "output_type": "display_data"
    },
    {
     "data": {
      "image/png": "[encoded data removed]",
      "text/plain": [
       "<Figure size 800x600 with 1 Axes>"
      ]
     },
     "metadata": {},
     "output_type": "display_data"
    },
    {
     "data": {
      "image/png": "[encoded data removed]",
      "text/plain": [
       "<Figure size 800x600 with 1 Axes>"
      ]
     },
     "metadata": {},
     "output_type": "display_data"
    },
    {
     "data": {
      "image/png": "[encoded data removed]",
      "text/plain": [
       "<Figure size 800x600 with 1 Axes>"
      ]
     },
     "metadata": {},
     "output_type": "display_data"
    },
    {
     "data": {
      "image/png": "[encoded data removed]",
      "text/plain": [
       "<Figure size 800x600 with 1 Axes>"
      ]
     },
     "metadata": {},
     "output_type": "display_data"
    }
   ],
   "source": [
    "for col in df_prod:\n",
    "    plt.figure(figsize=(8,6))\n",
    "    sns.histplot(data=df_prod, x=col, kde=True, stat=\"density\", linewidth=0, color='green')\n",
    "    plt.title(\"Probability Distribution of {}\".format(col))\n",
    "    plt.xlabel(col)\n",
    "    plt.ylabel(\"Density\")\n",
    "    plt.show()"
   ]
  },
  {
   "cell_type": "markdown",
   "id": "e4559b8f",
   "metadata": {},
   "source": [
    "Berdasarkan visualisasi diatas, maka dapat disimpulkan bahwa\n",
    "- kolom LOT dan SALE PRICE berdistribusi eksponensial\n",
    "- kolom BOROUGH, BLOCK, dan TAX CLASS AT TIME OF SALE berdistribusi gamma"
   ]
  },
  {
   "cell_type": "markdown",
   "id": "622c53fe",
   "metadata": {},
   "source": [
    "# Convidence Intervals\n",
    "\n",
    "## Calculation CI of Mean\n",
    "\n",
    "Menghitung CI untuk mean SALE PRICE pada wilayah Brooklyn\n",
    "\n",
    "Membuat variabel 'df_coni' yang berisi nilai mean, std dan size dari kolom `SALE PRICE`."
   ]
  },
  {
   "cell_type": "code",
   "execution_count": 113,
   "id": "136fd269",
   "metadata": {},
   "outputs": [
    {
     "data": {
      "text/html": [
       "<div>\n",
       "<style scoped>\n",
       "    .dataframe tbody tr th:only-of-type {\n",
       "        vertical-align: middle;\n",
       "    }\n",
       "\n",
       "    .dataframe tbody tr th {\n",
       "        vertical-align: top;\n",
       "    }\n",
       "\n",
       "    .dataframe thead tr th {\n",
       "        text-align: left;\n",
       "    }\n",
       "\n",
       "    .dataframe thead tr:last-of-type th {\n",
       "        text-align: right;\n",
       "    }\n",
       "</style>\n",
       "<table border=\"1\" class=\"dataframe\">\n",
       "  <thead>\n",
       "    <tr>\n",
       "      <th></th>\n",
       "      <th colspan=\"3\" halign=\"left\">SALE PRICE</th>\n",
       "    </tr>\n",
       "    <tr>\n",
       "      <th></th>\n",
       "      <th>mean</th>\n",
       "      <th>std</th>\n",
       "      <th>size</th>\n",
       "    </tr>\n",
       "    <tr>\n",
       "      <th>BOROUGH</th>\n",
       "      <th></th>\n",
       "      <th></th>\n",
       "      <th></th>\n",
       "    </tr>\n",
       "  </thead>\n",
       "  <tbody>\n",
       "    <tr>\n",
       "      <th>Bronx</th>\n",
       "      <td>5.955543e+05</td>\n",
       "      <td>2.795621e+06</td>\n",
       "      <td>6983</td>\n",
       "    </tr>\n",
       "    <tr>\n",
       "      <th>Brooklyn</th>\n",
       "      <td>8.423449e+05</td>\n",
       "      <td>3.954935e+06</td>\n",
       "      <td>23805</td>\n",
       "    </tr>\n",
       "    <tr>\n",
       "      <th>Manhattan</th>\n",
       "      <td>2.773636e+06</td>\n",
       "      <td>2.158396e+07</td>\n",
       "      <td>18030</td>\n",
       "    </tr>\n",
       "    <tr>\n",
       "      <th>Queens</th>\n",
       "      <td>6.753599e+05</td>\n",
       "      <td>2.693043e+06</td>\n",
       "      <td>26474</td>\n",
       "    </tr>\n",
       "    <tr>\n",
       "      <th>Staten Island</th>\n",
       "      <td>5.398224e+05</td>\n",
       "      <td>1.618722e+06</td>\n",
       "      <td>8295</td>\n",
       "    </tr>\n",
       "  </tbody>\n",
       "</table>\n",
       "</div>"
      ],
      "text/plain": [
       "                 SALE PRICE                     \n",
       "                       mean           std   size\n",
       "BOROUGH                                         \n",
       "Bronx          5.955543e+05  2.795621e+06   6983\n",
       "Brooklyn       8.423449e+05  3.954935e+06  23805\n",
       "Manhattan      2.773636e+06  2.158396e+07  18030\n",
       "Queens         6.753599e+05  2.693043e+06  26474\n",
       "Staten Island  5.398224e+05  1.618722e+06   8295"
      ]
     },
     "execution_count": 113,
     "metadata": {},
     "output_type": "execute_result"
    }
   ],
   "source": [
    "df_coni = dataframe.groupby('BOROUGH').agg({'SALE PRICE': [np.mean, np.std, np.size]})\n",
    "df_coni"
   ]
  },
  {
   "cell_type": "markdown",
   "id": "c22c3fc0",
   "metadata": {},
   "source": [
    "Mengekstrak parameter yang diperlukan (menggunakan data pada wilayah Brooklyn)\n",
    "\n",
    "z-score yang digunakan adalah 1.96 untuk confidence interval 95%"
   ]
  },
  {
   "cell_type": "code",
   "execution_count": 116,
   "id": "185ec890",
   "metadata": {},
   "outputs": [],
   "source": [
    "mean_sp = df_coni.iloc[1,0]\n",
    "sd = df_coni.iloc [1,1]\n",
    "n = df_coni.iloc [1,2]         \n",
    "z = 1.96  "
   ]
  },
  {
   "cell_type": "markdown",
   "id": "6c8cf1c5",
   "metadata": {},
   "source": [
    "Menghitung standard error dari sample mean menggunaka rumus\n",
    "\n",
    "<img src=\"https://i.ibb.co/DgFTNrm/s10-09.png\" width=\"500\" align=\"center\">"
   ]
  },
  {
   "cell_type": "code",
   "execution_count": 117,
   "id": "fb3f5ea8",
   "metadata": {},
   "outputs": [
    {
     "data": {
      "text/plain": [
       "25633.342750683118"
      ]
     },
     "execution_count": 117,
     "metadata": {},
     "output_type": "execute_result"
    }
   ],
   "source": [
    "se = sd / np.sqrt(n)\n",
    "se"
   ]
  },
  {
   "cell_type": "markdown",
   "id": "fa7c6744",
   "metadata": {},
   "source": [
    "Menghitung lower limit dan upper limit dari CI"
   ]
  },
  {
   "cell_type": "code",
   "execution_count": 118,
   "id": "1db4a56f",
   "metadata": {},
   "outputs": [
    {
     "data": {
      "text/plain": [
       "(792103.5695697197, 892586.2731523975)"
      ]
     },
     "execution_count": 118,
     "metadata": {},
     "output_type": "execute_result"
    }
   ],
   "source": [
    "lcb = mean_sp - z * se\n",
    "ucb = mean_sp + z * se\n",
    "lcb, ucb"
   ]
  },
  {
   "cell_type": "markdown",
   "id": "93e91508",
   "metadata": {},
   "source": [
    "Berdasarkan data diatas, maka\n",
    "\n",
    "- Standard error untuk mean yaitu 25633.342750683118\n",
    "- Upper limit dari CI yaitu 892586.2731523975\n",
    "- Lower limit dari CI yaitu 792103.5695697197\n",
    "- Rata-rata sebenarnya dari SALE PRICE di wilayah Brooklyn akan jatuh antara 792103.5695697197 dan 892586.2731523975"
   ]
  },
  {
   "cell_type": "code",
   "execution_count": null,
   "id": "8a0e1646",
   "metadata": {},
   "outputs": [],
   "source": []
  }
 ],
 "metadata": {
  "kernelspec": {
   "display_name": "Python 3 (ipykernel)",
   "language": "python",
   "name": "python3"
  },
  "language_info": {
   "codemirror_mode": {
    "name": "ipython",
    "version": 3
   },
   "file_extension": ".py",
   "mimetype": "text/x-python",
   "name": "python",
   "nbconvert_exporter": "python",
   "pygments_lexer": "ipython3",
   "version": "3.9.13"
  }
 },
 "nbformat": 4,
 "nbformat_minor": 5
}
