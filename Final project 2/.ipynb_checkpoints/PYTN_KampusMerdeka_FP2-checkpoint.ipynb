{
 "cells": [
  {
   "cell_type": "markdown",
   "id": "a745741d",
   "metadata": {},
   "source": [
    "<img src = \"https://global-uploads.webflow.com/5f0d53c042a9ed6288de7f8d/5f6337ae2cfaa10946ceeb06_Hacktiv8%20logo%20horizontal%2001%20black-p-500.png\" width = 500>\n",
    "<h1 align=center><font size = 6,5>Final Project 2 (Logistic Regression dan SVM)</font></h1>"
   ]
  },
  {
   "cell_type": "markdown",
   "id": "f30671ee",
   "metadata": {},
   "source": [
    "# Kelompok 4 - PYTN KS 017\n",
    "\n",
    "- Fadil Febriansyah  : PYTN-KS17-016 <br>\n",
    "- Nabila Firzariani  : PYTN-KS17-011 <br>\n",
    "- Nurhidayatul       : PYTN-KS17-008 <br>\n",
    "- Riga Jaya          : PYTN-KS17-020 <br>\n",
    "        \n",
    "MSIB Kampus Merdeka Batch 5"
   ]
  },
  {
   "cell_type": "markdown",
   "id": "ffb0210c",
   "metadata": {},
   "source": [
    "----------------------------------\n",
    "# A. Perkenalan\n",
    "\n",
    "## A.1. Latar Belakang\n",
    "Cuaca merupakan faktor alam yang sangat mempengaruhi kehidupan manusia. Dalam kehidupan sehari-hari, banyak aktivitas dan tindakan manusia yang bergantung pada faktor dan keadaan cuaca. Seseorang yang akan berpergian membutuhkan informasi cuaca untuk menentukan tujuan perjalanan dan keputusan untuk berangkat pada tujuan tersebut. Mengantisipasi cuaca merupakan kebutuhan manusia untuk dapat melakukan aktivitas dengan baik. Faktor-faktor yang mempengaruhi cuaca antara lain suhu, kelembaban, tekanan udara, kecepatan angin, dan lainnya. Salah satu fenomena terpenting dalam kehidupan yang dipengaruhi oleh cuaca adalah hujan. \n",
    "\n",
    "Hujan merupakan fenomena yang tidak dapat dihindari dimana cuaca merupakan salah satu faktor yang mempengaruhi terjadinya hujan. Oleh karena itu, prakiraan terkait cuaca menjadi sangat penting. Apakah besok akan hujan atau tidak dapat bisa menilai dari klasifikasinya. Metode statistik dan pembelajaran machine learning untuk memprediksi hujan akan dibandingkan dalam project ini. Pada project ini, kami ingin melakukan prediksi pada kejadian hujan di Australia dengan menggunakan metode logistic regression dan SVM. \n",
    "\n",
    "Kumpulan data ini berisi sekitar 10 tahun pengamatan cuaca harian dari banyak lokasi di seluruh Australia. **RainTomorrow** adalah variabel target untuk diprediksi. Artinya apakah keesokan harinya hujan, Ya atau Tidak? Kolom ini Ya jika hujan pada hari itu 1 mm atau lebih.\n",
    "\n",
    "\n",
    "## A.2. Dataset\n",
    "Analisis ini menggunakan data yang bersumber dari kaggle yaitu <a href=\"https://www.kaggle.com/datasets/jsphyg/weather-dataset-rattle-package\" title=\"Rain in Australia\">Rain in Australia</a>. \n",
    "\n",
    "\n",
    "## A.3. Objektif\n",
    "Objektif yang ingin dicapai antara lain:\n",
    "- Untuk mengetahui faktor-faktor yang berpengaruh dalam memprediksi hujan di wilayah Australia.\n",
    "- Untuk membuat beberapa model yang dianggap paling sesuai dengan metode logistic regression dan SVM sehingga diperoleh akurasi yang tinggi.\n",
    "- Untuk memprediksi hujan di wilayah Australia berdasarkan faktor-faktor yang mempengaruhinya menggunakan metode logistic regression dan SVM."
   ]
  },
  {
   "cell_type": "markdown",
   "id": "a67ba0e5",
   "metadata": {},
   "source": [
    "# B.Import Library"
   ]
  },
  {
   "cell_type": "code",
   "execution_count": 1,
   "id": "6eaf0b53",
   "metadata": {},
   "outputs": [],
   "source": [
    "# Import library dataframe\n",
    "import numpy as np \n",
    "from numpy import mean \n",
    "import pandas as pd \n",
    "\n",
    "# Import library untuk visualisasi\n",
    "import matplotlib.pyplot as plt \n",
    "%matplotlib inline\n",
    "import seaborn as sns\n",
    "\n",
    "# Import library untuk preprocessing \n",
    "from sklearn.preprocessing import LabelEncoder, StandardScaler, MinMaxScaler \n",
    "from sklearn import preprocessing \n",
    "from sklearn.model_selection import train_test_split \n",
    "\n",
    "# Mengatur display agar maximal\n",
    "pd.options.display.max_rows = None\n",
    "pd.options.display.max_columns = None\n",
    "\n",
    "# Import library untuk modelling/analysis\n",
    "from sklearn import metrics\n",
    "from sklearn.metrics import accuracy_score, f1_score, precision_score, recall_score \n",
    "from sklearn.metrics import confusion_matrix \n",
    "from sklearn.metrics import classification_report \n",
    "from sklearn.metrics import mean_squared_error \n",
    "from sklearn.linear_model import LogisticRegression\n",
    "from sklearn.svm import SVC\n",
    "from sklearn.ensemble import BaggingClassifier\n",
    "from sklearn.multiclass import OneVsRestClassifier\n",
    "from sklearn.metrics import roc_curve, auc\n",
    "from sklearn.metrics import roc_auc_score\n",
    "\n",
    "# Import library untuk model improvement\n",
    "from sklearn.model_selection import GridSearchCV\n",
    "from sklearn.datasets import make_classification\n",
    "from sklearn.model_selection import cross_val_score\n",
    "\n",
    "# Import Library untuk balancing\n",
    "from sklearn.utils import resample"
   ]
  },
  {
   "cell_type": "markdown",
   "id": "a62e8309",
   "metadata": {},
   "source": [
    "# C.Data Loading"
   ]
  },
  {
   "cell_type": "markdown",
   "id": "2c90b0aa",
   "metadata": {},
   "source": [
    "## C.1.Memanggil data set"
   ]
  },
  {
   "cell_type": "code",
   "execution_count": 2,
   "id": "a49fddf3",
   "metadata": {},
   "outputs": [],
   "source": [
    "data_weather = pd.read_csv('D:/Kuliah/Semester 7/Hacktiv8/Dataset/weatherAUS.csv')"
   ]
  },
  {
   "cell_type": "code",
   "execution_count": 3,
   "id": "cdeaf102",
   "metadata": {},
   "outputs": [
    {
     "data": {
      "text/html": [
       "<div>\n",
       "<style scoped>\n",
       "    .dataframe tbody tr th:only-of-type {\n",
       "        vertical-align: middle;\n",
       "    }\n",
       "\n",
       "    .dataframe tbody tr th {\n",
       "        vertical-align: top;\n",
       "    }\n",
       "\n",
       "    .dataframe thead th {\n",
       "        text-align: right;\n",
       "    }\n",
       "</style>\n",
       "<table border=\"1\" class=\"dataframe\">\n",
       "  <thead>\n",
       "    <tr style=\"text-align: right;\">\n",
       "      <th></th>\n",
       "      <th>Date</th>\n",
       "      <th>Location</th>\n",
       "      <th>MinTemp</th>\n",
       "      <th>MaxTemp</th>\n",
       "      <th>Rainfall</th>\n",
       "      <th>Evaporation</th>\n",
       "      <th>Sunshine</th>\n",
       "      <th>WindGustDir</th>\n",
       "      <th>WindGustSpeed</th>\n",
       "      <th>WindDir9am</th>\n",
       "      <th>WindDir3pm</th>\n",
       "      <th>WindSpeed9am</th>\n",
       "      <th>WindSpeed3pm</th>\n",
       "      <th>Humidity9am</th>\n",
       "      <th>Humidity3pm</th>\n",
       "      <th>Pressure9am</th>\n",
       "      <th>Pressure3pm</th>\n",
       "      <th>Cloud9am</th>\n",
       "      <th>Cloud3pm</th>\n",
       "      <th>Temp9am</th>\n",
       "      <th>Temp3pm</th>\n",
       "      <th>RainToday</th>\n",
       "      <th>RainTomorrow</th>\n",
       "    </tr>\n",
       "  </thead>\n",
       "  <tbody>\n",
       "    <tr>\n",
       "      <th>0</th>\n",
       "      <td>2008-12-01</td>\n",
       "      <td>Albury</td>\n",
       "      <td>13.4</td>\n",
       "      <td>22.9</td>\n",
       "      <td>0.6</td>\n",
       "      <td>NaN</td>\n",
       "      <td>NaN</td>\n",
       "      <td>W</td>\n",
       "      <td>44.0</td>\n",
       "      <td>W</td>\n",
       "      <td>WNW</td>\n",
       "      <td>20.0</td>\n",
       "      <td>24.0</td>\n",
       "      <td>71.0</td>\n",
       "      <td>22.0</td>\n",
       "      <td>1007.7</td>\n",
       "      <td>1007.1</td>\n",
       "      <td>8.0</td>\n",
       "      <td>NaN</td>\n",
       "      <td>16.9</td>\n",
       "      <td>21.8</td>\n",
       "      <td>No</td>\n",
       "      <td>No</td>\n",
       "    </tr>\n",
       "    <tr>\n",
       "      <th>1</th>\n",
       "      <td>2008-12-02</td>\n",
       "      <td>Albury</td>\n",
       "      <td>7.4</td>\n",
       "      <td>25.1</td>\n",
       "      <td>0.0</td>\n",
       "      <td>NaN</td>\n",
       "      <td>NaN</td>\n",
       "      <td>WNW</td>\n",
       "      <td>44.0</td>\n",
       "      <td>NNW</td>\n",
       "      <td>WSW</td>\n",
       "      <td>4.0</td>\n",
       "      <td>22.0</td>\n",
       "      <td>44.0</td>\n",
       "      <td>25.0</td>\n",
       "      <td>1010.6</td>\n",
       "      <td>1007.8</td>\n",
       "      <td>NaN</td>\n",
       "      <td>NaN</td>\n",
       "      <td>17.2</td>\n",
       "      <td>24.3</td>\n",
       "      <td>No</td>\n",
       "      <td>No</td>\n",
       "    </tr>\n",
       "    <tr>\n",
       "      <th>2</th>\n",
       "      <td>2008-12-03</td>\n",
       "      <td>Albury</td>\n",
       "      <td>12.9</td>\n",
       "      <td>25.7</td>\n",
       "      <td>0.0</td>\n",
       "      <td>NaN</td>\n",
       "      <td>NaN</td>\n",
       "      <td>WSW</td>\n",
       "      <td>46.0</td>\n",
       "      <td>W</td>\n",
       "      <td>WSW</td>\n",
       "      <td>19.0</td>\n",
       "      <td>26.0</td>\n",
       "      <td>38.0</td>\n",
       "      <td>30.0</td>\n",
       "      <td>1007.6</td>\n",
       "      <td>1008.7</td>\n",
       "      <td>NaN</td>\n",
       "      <td>2.0</td>\n",
       "      <td>21.0</td>\n",
       "      <td>23.2</td>\n",
       "      <td>No</td>\n",
       "      <td>No</td>\n",
       "    </tr>\n",
       "    <tr>\n",
       "      <th>3</th>\n",
       "      <td>2008-12-04</td>\n",
       "      <td>Albury</td>\n",
       "      <td>9.2</td>\n",
       "      <td>28.0</td>\n",
       "      <td>0.0</td>\n",
       "      <td>NaN</td>\n",
       "      <td>NaN</td>\n",
       "      <td>NE</td>\n",
       "      <td>24.0</td>\n",
       "      <td>SE</td>\n",
       "      <td>E</td>\n",
       "      <td>11.0</td>\n",
       "      <td>9.0</td>\n",
       "      <td>45.0</td>\n",
       "      <td>16.0</td>\n",
       "      <td>1017.6</td>\n",
       "      <td>1012.8</td>\n",
       "      <td>NaN</td>\n",
       "      <td>NaN</td>\n",
       "      <td>18.1</td>\n",
       "      <td>26.5</td>\n",
       "      <td>No</td>\n",
       "      <td>No</td>\n",
       "    </tr>\n",
       "    <tr>\n",
       "      <th>4</th>\n",
       "      <td>2008-12-05</td>\n",
       "      <td>Albury</td>\n",
       "      <td>17.5</td>\n",
       "      <td>32.3</td>\n",
       "      <td>1.0</td>\n",
       "      <td>NaN</td>\n",
       "      <td>NaN</td>\n",
       "      <td>W</td>\n",
       "      <td>41.0</td>\n",
       "      <td>ENE</td>\n",
       "      <td>NW</td>\n",
       "      <td>7.0</td>\n",
       "      <td>20.0</td>\n",
       "      <td>82.0</td>\n",
       "      <td>33.0</td>\n",
       "      <td>1010.8</td>\n",
       "      <td>1006.0</td>\n",
       "      <td>7.0</td>\n",
       "      <td>8.0</td>\n",
       "      <td>17.8</td>\n",
       "      <td>29.7</td>\n",
       "      <td>No</td>\n",
       "      <td>No</td>\n",
       "    </tr>\n",
       "  </tbody>\n",
       "</table>\n",
       "</div>"
      ],
      "text/plain": [
       "         Date Location  MinTemp  MaxTemp  Rainfall  Evaporation  Sunshine  \\\n",
       "0  2008-12-01   Albury     13.4     22.9       0.6          NaN       NaN   \n",
       "1  2008-12-02   Albury      7.4     25.1       0.0          NaN       NaN   \n",
       "2  2008-12-03   Albury     12.9     25.7       0.0          NaN       NaN   \n",
       "3  2008-12-04   Albury      9.2     28.0       0.0          NaN       NaN   \n",
       "4  2008-12-05   Albury     17.5     32.3       1.0          NaN       NaN   \n",
       "\n",
       "  WindGustDir  WindGustSpeed WindDir9am WindDir3pm  WindSpeed9am  \\\n",
       "0           W           44.0          W        WNW          20.0   \n",
       "1         WNW           44.0        NNW        WSW           4.0   \n",
       "2         WSW           46.0          W        WSW          19.0   \n",
       "3          NE           24.0         SE          E          11.0   \n",
       "4           W           41.0        ENE         NW           7.0   \n",
       "\n",
       "   WindSpeed3pm  Humidity9am  Humidity3pm  Pressure9am  Pressure3pm  Cloud9am  \\\n",
       "0          24.0         71.0         22.0       1007.7       1007.1       8.0   \n",
       "1          22.0         44.0         25.0       1010.6       1007.8       NaN   \n",
       "2          26.0         38.0         30.0       1007.6       1008.7       NaN   \n",
       "3           9.0         45.0         16.0       1017.6       1012.8       NaN   \n",
       "4          20.0         82.0         33.0       1010.8       1006.0       7.0   \n",
       "\n",
       "   Cloud3pm  Temp9am  Temp3pm RainToday RainTomorrow  \n",
       "0       NaN     16.9     21.8        No           No  \n",
       "1       NaN     17.2     24.3        No           No  \n",
       "2       2.0     21.0     23.2        No           No  \n",
       "3       NaN     18.1     26.5        No           No  \n",
       "4       8.0     17.8     29.7        No           No  "
      ]
     },
     "execution_count": 3,
     "metadata": {},
     "output_type": "execute_result"
    }
   ],
   "source": [
    "data_weather.head()"
   ]
  },
  {
   "cell_type": "markdown",
   "id": "f38eee8e",
   "metadata": {},
   "source": [
    "**Keterangan dataset:**\n",
    "\n",
    "Dataset ini berisi 23 kolom yang bertipe data integer, float, dan object. Masing-masing kolom memiliki arti tersendiri, yaitu sebagai berikut:\n",
    "\n",
    "1. `Date` = Tanggal terjadinya hujan\n",
    "2. `Location` = Wilayah di Australia yang mengalami hujan\n",
    "3. `MinTemp` = Suhu Minimal (Celcius)\n",
    "4. `MaxTemp` = Suhu Maksimal (Celcius)\n",
    "5. `Rainfall` = Jumlah Curah Hujan Tercatat dalam hari (Mm)\n",
    "6. `Evaporation` = Evaporasi dalam sehari \n",
    "7. `Sunshine` = Lama Matahari Cerah di Siang Hari (Jam)\n",
    "8. `WindGustDir` = Arah Hembusan Angin terkuat dalam sehari\n",
    "9. `WindGustSpeed` = Kecepatan Angin terkuat dalam sehari (km/jam)\n",
    "10. `WindDir9am` = Arah Angin Jam 9 Pagi\n",
    "11. `WindDir3pm` = Arah Angin Jam 3 Sore\n",
    "12. `WindSpeed9am` = Kecepatan Angin sebelum jam 9 Pagi (km/jam)\n",
    "13. `WindSpeed3pm` = Kecepatan Angin sebelum jam 3 sore (km/jam)\n",
    "14. `Humidity9am` = Kelembaban jam 9 Pagi\n",
    "15. `Humidity3pm` = Kelembaban jam 3 Sore\n",
    "16. `Pressure9am` = Tekanan atmosfer (hpa) berkurang ke rata-rata permukaan laut pada jam 9 pagi\n",
    "17. `Pressure3pm` = Tekanan atmosfer (hpa) berkurang ke rata-rata permukaan laut pada jam 3 sore\n",
    "18. `Cloud9am` = Keadaan Awan Jam 9 pagi (0 – 8); 0 = Paling Cerah, ...., 8 = Mendung Sekali \n",
    "19. `Cloud3pm` = Keadaan Awan Jam 3 Sore (0 – 8); 0 = Paling Cerah, ...., 8 = Mendung Sekali \n",
    "20. `Temp9am` = Temperatur Jam 9 Pagi (Celcius)\n",
    "21. `Temp3pm` = Temperatur Jam 3 Sore (Celcius)\n",
    "22. `RainToday` = Keadaan Cuaca Hari ini; 0 = Tidak Hujan atau 1 = Terjadi Hujan\n",
    "23. `RainTomorrow` = Kejadian hujan pada esok hari; 0 = Tidak Hujan atau 1 = Terjadi Hujan"
   ]
  },
  {
   "cell_type": "markdown",
   "id": "21f08f72",
   "metadata": {},
   "source": [
    "## C.2. Melihat ukuran data"
   ]
  },
  {
   "cell_type": "code",
   "execution_count": 4,
   "id": "79aa5610",
   "metadata": {},
   "outputs": [
    {
     "data": {
      "text/plain": [
       "(145460, 23)"
      ]
     },
     "execution_count": 4,
     "metadata": {},
     "output_type": "execute_result"
    }
   ],
   "source": [
    "data_weather.shape"
   ]
  },
  {
   "cell_type": "markdown",
   "id": "993aae98",
   "metadata": {},
   "source": [
    "## C.3. Deskriptif Statistik"
   ]
  },
  {
   "cell_type": "code",
   "execution_count": 5,
   "id": "2433e157",
   "metadata": {},
   "outputs": [
    {
     "data": {
      "text/html": [
       "<div>\n",
       "<style scoped>\n",
       "    .dataframe tbody tr th:only-of-type {\n",
       "        vertical-align: middle;\n",
       "    }\n",
       "\n",
       "    .dataframe tbody tr th {\n",
       "        vertical-align: top;\n",
       "    }\n",
       "\n",
       "    .dataframe thead th {\n",
       "        text-align: right;\n",
       "    }\n",
       "</style>\n",
       "<table border=\"1\" class=\"dataframe\">\n",
       "  <thead>\n",
       "    <tr style=\"text-align: right;\">\n",
       "      <th></th>\n",
       "      <th>MinTemp</th>\n",
       "      <th>MaxTemp</th>\n",
       "      <th>Rainfall</th>\n",
       "      <th>Evaporation</th>\n",
       "      <th>Sunshine</th>\n",
       "      <th>WindGustSpeed</th>\n",
       "      <th>WindSpeed9am</th>\n",
       "      <th>WindSpeed3pm</th>\n",
       "      <th>Humidity9am</th>\n",
       "      <th>Humidity3pm</th>\n",
       "      <th>Pressure9am</th>\n",
       "      <th>Pressure3pm</th>\n",
       "      <th>Cloud9am</th>\n",
       "      <th>Cloud3pm</th>\n",
       "      <th>Temp9am</th>\n",
       "      <th>Temp3pm</th>\n",
       "    </tr>\n",
       "  </thead>\n",
       "  <tbody>\n",
       "    <tr>\n",
       "      <th>count</th>\n",
       "      <td>143975.000000</td>\n",
       "      <td>144199.000000</td>\n",
       "      <td>142199.000000</td>\n",
       "      <td>82670.000000</td>\n",
       "      <td>75625.000000</td>\n",
       "      <td>135197.000000</td>\n",
       "      <td>143693.000000</td>\n",
       "      <td>142398.000000</td>\n",
       "      <td>142806.000000</td>\n",
       "      <td>140953.000000</td>\n",
       "      <td>130395.00000</td>\n",
       "      <td>130432.000000</td>\n",
       "      <td>89572.000000</td>\n",
       "      <td>86102.000000</td>\n",
       "      <td>143693.000000</td>\n",
       "      <td>141851.00000</td>\n",
       "    </tr>\n",
       "    <tr>\n",
       "      <th>mean</th>\n",
       "      <td>12.194034</td>\n",
       "      <td>23.221348</td>\n",
       "      <td>2.360918</td>\n",
       "      <td>5.468232</td>\n",
       "      <td>7.611178</td>\n",
       "      <td>40.035230</td>\n",
       "      <td>14.043426</td>\n",
       "      <td>18.662657</td>\n",
       "      <td>68.880831</td>\n",
       "      <td>51.539116</td>\n",
       "      <td>1017.64994</td>\n",
       "      <td>1015.255889</td>\n",
       "      <td>4.447461</td>\n",
       "      <td>4.509930</td>\n",
       "      <td>16.990631</td>\n",
       "      <td>21.68339</td>\n",
       "    </tr>\n",
       "    <tr>\n",
       "      <th>std</th>\n",
       "      <td>6.398495</td>\n",
       "      <td>7.119049</td>\n",
       "      <td>8.478060</td>\n",
       "      <td>4.193704</td>\n",
       "      <td>3.785483</td>\n",
       "      <td>13.607062</td>\n",
       "      <td>8.915375</td>\n",
       "      <td>8.809800</td>\n",
       "      <td>19.029164</td>\n",
       "      <td>20.795902</td>\n",
       "      <td>7.10653</td>\n",
       "      <td>7.037414</td>\n",
       "      <td>2.887159</td>\n",
       "      <td>2.720357</td>\n",
       "      <td>6.488753</td>\n",
       "      <td>6.93665</td>\n",
       "    </tr>\n",
       "    <tr>\n",
       "      <th>min</th>\n",
       "      <td>-8.500000</td>\n",
       "      <td>-4.800000</td>\n",
       "      <td>0.000000</td>\n",
       "      <td>0.000000</td>\n",
       "      <td>0.000000</td>\n",
       "      <td>6.000000</td>\n",
       "      <td>0.000000</td>\n",
       "      <td>0.000000</td>\n",
       "      <td>0.000000</td>\n",
       "      <td>0.000000</td>\n",
       "      <td>980.50000</td>\n",
       "      <td>977.100000</td>\n",
       "      <td>0.000000</td>\n",
       "      <td>0.000000</td>\n",
       "      <td>-7.200000</td>\n",
       "      <td>-5.40000</td>\n",
       "    </tr>\n",
       "    <tr>\n",
       "      <th>25%</th>\n",
       "      <td>7.600000</td>\n",
       "      <td>17.900000</td>\n",
       "      <td>0.000000</td>\n",
       "      <td>2.600000</td>\n",
       "      <td>4.800000</td>\n",
       "      <td>31.000000</td>\n",
       "      <td>7.000000</td>\n",
       "      <td>13.000000</td>\n",
       "      <td>57.000000</td>\n",
       "      <td>37.000000</td>\n",
       "      <td>1012.90000</td>\n",
       "      <td>1010.400000</td>\n",
       "      <td>1.000000</td>\n",
       "      <td>2.000000</td>\n",
       "      <td>12.300000</td>\n",
       "      <td>16.60000</td>\n",
       "    </tr>\n",
       "    <tr>\n",
       "      <th>50%</th>\n",
       "      <td>12.000000</td>\n",
       "      <td>22.600000</td>\n",
       "      <td>0.000000</td>\n",
       "      <td>4.800000</td>\n",
       "      <td>8.400000</td>\n",
       "      <td>39.000000</td>\n",
       "      <td>13.000000</td>\n",
       "      <td>19.000000</td>\n",
       "      <td>70.000000</td>\n",
       "      <td>52.000000</td>\n",
       "      <td>1017.60000</td>\n",
       "      <td>1015.200000</td>\n",
       "      <td>5.000000</td>\n",
       "      <td>5.000000</td>\n",
       "      <td>16.700000</td>\n",
       "      <td>21.10000</td>\n",
       "    </tr>\n",
       "    <tr>\n",
       "      <th>75%</th>\n",
       "      <td>16.900000</td>\n",
       "      <td>28.200000</td>\n",
       "      <td>0.800000</td>\n",
       "      <td>7.400000</td>\n",
       "      <td>10.600000</td>\n",
       "      <td>48.000000</td>\n",
       "      <td>19.000000</td>\n",
       "      <td>24.000000</td>\n",
       "      <td>83.000000</td>\n",
       "      <td>66.000000</td>\n",
       "      <td>1022.40000</td>\n",
       "      <td>1020.000000</td>\n",
       "      <td>7.000000</td>\n",
       "      <td>7.000000</td>\n",
       "      <td>21.600000</td>\n",
       "      <td>26.40000</td>\n",
       "    </tr>\n",
       "    <tr>\n",
       "      <th>max</th>\n",
       "      <td>33.900000</td>\n",
       "      <td>48.100000</td>\n",
       "      <td>371.000000</td>\n",
       "      <td>145.000000</td>\n",
       "      <td>14.500000</td>\n",
       "      <td>135.000000</td>\n",
       "      <td>130.000000</td>\n",
       "      <td>87.000000</td>\n",
       "      <td>100.000000</td>\n",
       "      <td>100.000000</td>\n",
       "      <td>1041.00000</td>\n",
       "      <td>1039.600000</td>\n",
       "      <td>9.000000</td>\n",
       "      <td>9.000000</td>\n",
       "      <td>40.200000</td>\n",
       "      <td>46.70000</td>\n",
       "    </tr>\n",
       "  </tbody>\n",
       "</table>\n",
       "</div>"
      ],
      "text/plain": [
       "             MinTemp        MaxTemp       Rainfall   Evaporation  \\\n",
       "count  143975.000000  144199.000000  142199.000000  82670.000000   \n",
       "mean       12.194034      23.221348       2.360918      5.468232   \n",
       "std         6.398495       7.119049       8.478060      4.193704   \n",
       "min        -8.500000      -4.800000       0.000000      0.000000   \n",
       "25%         7.600000      17.900000       0.000000      2.600000   \n",
       "50%        12.000000      22.600000       0.000000      4.800000   \n",
       "75%        16.900000      28.200000       0.800000      7.400000   \n",
       "max        33.900000      48.100000     371.000000    145.000000   \n",
       "\n",
       "           Sunshine  WindGustSpeed   WindSpeed9am   WindSpeed3pm  \\\n",
       "count  75625.000000  135197.000000  143693.000000  142398.000000   \n",
       "mean       7.611178      40.035230      14.043426      18.662657   \n",
       "std        3.785483      13.607062       8.915375       8.809800   \n",
       "min        0.000000       6.000000       0.000000       0.000000   \n",
       "25%        4.800000      31.000000       7.000000      13.000000   \n",
       "50%        8.400000      39.000000      13.000000      19.000000   \n",
       "75%       10.600000      48.000000      19.000000      24.000000   \n",
       "max       14.500000     135.000000     130.000000      87.000000   \n",
       "\n",
       "         Humidity9am    Humidity3pm   Pressure9am    Pressure3pm  \\\n",
       "count  142806.000000  140953.000000  130395.00000  130432.000000   \n",
       "mean       68.880831      51.539116    1017.64994    1015.255889   \n",
       "std        19.029164      20.795902       7.10653       7.037414   \n",
       "min         0.000000       0.000000     980.50000     977.100000   \n",
       "25%        57.000000      37.000000    1012.90000    1010.400000   \n",
       "50%        70.000000      52.000000    1017.60000    1015.200000   \n",
       "75%        83.000000      66.000000    1022.40000    1020.000000   \n",
       "max       100.000000     100.000000    1041.00000    1039.600000   \n",
       "\n",
       "           Cloud9am      Cloud3pm        Temp9am       Temp3pm  \n",
       "count  89572.000000  86102.000000  143693.000000  141851.00000  \n",
       "mean       4.447461      4.509930      16.990631      21.68339  \n",
       "std        2.887159      2.720357       6.488753       6.93665  \n",
       "min        0.000000      0.000000      -7.200000      -5.40000  \n",
       "25%        1.000000      2.000000      12.300000      16.60000  \n",
       "50%        5.000000      5.000000      16.700000      21.10000  \n",
       "75%        7.000000      7.000000      21.600000      26.40000  \n",
       "max        9.000000      9.000000      40.200000      46.70000  "
      ]
     },
     "execution_count": 5,
     "metadata": {},
     "output_type": "execute_result"
    }
   ],
   "source": [
    "data_weather.describe()"
   ]
  },
  {
   "cell_type": "markdown",
   "id": "61e3fecd",
   "metadata": {},
   "source": [
    "## C.4. Mengecek Type Data Pada Dataset"
   ]
  },
  {
   "cell_type": "code",
   "execution_count": 6,
   "id": "60e2ab33",
   "metadata": {},
   "outputs": [
    {
     "name": "stdout",
     "output_type": "stream",
     "text": [
      "<class 'pandas.core.frame.DataFrame'>\n",
      "RangeIndex: 145460 entries, 0 to 145459\n",
      "Data columns (total 23 columns):\n",
      " #   Column         Non-Null Count   Dtype  \n",
      "---  ------         --------------   -----  \n",
      " 0   Date           145460 non-null  object \n",
      " 1   Location       145460 non-null  object \n",
      " 2   MinTemp        143975 non-null  float64\n",
      " 3   MaxTemp        144199 non-null  float64\n",
      " 4   Rainfall       142199 non-null  float64\n",
      " 5   Evaporation    82670 non-null   float64\n",
      " 6   Sunshine       75625 non-null   float64\n",
      " 7   WindGustDir    135134 non-null  object \n",
      " 8   WindGustSpeed  135197 non-null  float64\n",
      " 9   WindDir9am     134894 non-null  object \n",
      " 10  WindDir3pm     141232 non-null  object \n",
      " 11  WindSpeed9am   143693 non-null  float64\n",
      " 12  WindSpeed3pm   142398 non-null  float64\n",
      " 13  Humidity9am    142806 non-null  float64\n",
      " 14  Humidity3pm    140953 non-null  float64\n",
      " 15  Pressure9am    130395 non-null  float64\n",
      " 16  Pressure3pm    130432 non-null  float64\n",
      " 17  Cloud9am       89572 non-null   float64\n",
      " 18  Cloud3pm       86102 non-null   float64\n",
      " 19  Temp9am        143693 non-null  float64\n",
      " 20  Temp3pm        141851 non-null  float64\n",
      " 21  RainToday      142199 non-null  object \n",
      " 22  RainTomorrow   142193 non-null  object \n",
      "dtypes: float64(16), object(7)\n",
      "memory usage: 25.5+ MB\n"
     ]
    }
   ],
   "source": [
    "data_weather.info()"
   ]
  },
  {
   "cell_type": "markdown",
   "id": "4b75261a",
   "metadata": {},
   "source": [
    "## C.5. Mengetahui Column"
   ]
  },
  {
   "cell_type": "code",
   "execution_count": 7,
   "id": "12e21d79",
   "metadata": {},
   "outputs": [
    {
     "data": {
      "text/plain": [
       "Index(['Date', 'Location', 'MinTemp', 'MaxTemp', 'Rainfall', 'Evaporation',\n",
       "       'Sunshine', 'WindGustDir', 'WindGustSpeed', 'WindDir9am', 'WindDir3pm',\n",
       "       'WindSpeed9am', 'WindSpeed3pm', 'Humidity9am', 'Humidity3pm',\n",
       "       'Pressure9am', 'Pressure3pm', 'Cloud9am', 'Cloud3pm', 'Temp9am',\n",
       "       'Temp3pm', 'RainToday', 'RainTomorrow'],\n",
       "      dtype='object')"
      ]
     },
     "execution_count": 7,
     "metadata": {},
     "output_type": "execute_result"
    }
   ],
   "source": [
    "data_weather.columns"
   ]
  },
  {
   "cell_type": "markdown",
   "id": "3ce0d8ed",
   "metadata": {},
   "source": [
    "# D.Data Preprocessing\n",
    "\n",
    "Data preprocessing adalah serangkaian langkah untuk membersihkan, mengorganisasi, dan mempersiapkan data sebelum digunakan untuk analisis atau pengembangan model. Tujuannya adalah untuk memastikan data siap dan berkualitas tinggi, termasuk penanganan nilai hilang, pembersihan data, normalisasi fitur, pengkodean variabel kategorikal, pemisahan data, transformasi data, pemilihan fitur, dan lainnya. Proses ini memungkinkan data digunakan dengan lebih baik dalam analisis atau model machine learning."
   ]
  },
  {
   "cell_type": "markdown",
   "id": "22d9127f",
   "metadata": {},
   "source": [
    "## D.1. Mengecek Missing Value"
   ]
  },
  {
   "cell_type": "code",
   "execution_count": 8,
   "id": "bf765967",
   "metadata": {},
   "outputs": [
    {
     "data": {
      "text/plain": [
       "Date                 0\n",
       "Location             0\n",
       "MinTemp           1485\n",
       "MaxTemp           1261\n",
       "Rainfall          3261\n",
       "Evaporation      62790\n",
       "Sunshine         69835\n",
       "WindGustDir      10326\n",
       "WindGustSpeed    10263\n",
       "WindDir9am       10566\n",
       "WindDir3pm        4228\n",
       "WindSpeed9am      1767\n",
       "WindSpeed3pm      3062\n",
       "Humidity9am       2654\n",
       "Humidity3pm       4507\n",
       "Pressure9am      15065\n",
       "Pressure3pm      15028\n",
       "Cloud9am         55888\n",
       "Cloud3pm         59358\n",
       "Temp9am           1767\n",
       "Temp3pm           3609\n",
       "RainToday         3261\n",
       "RainTomorrow      3267\n",
       "dtype: int64"
      ]
     },
     "execution_count": 8,
     "metadata": {},
     "output_type": "execute_result"
    }
   ],
   "source": [
    "data_weather.isna().sum()"
   ]
  },
  {
   "cell_type": "code",
   "execution_count": 9,
   "id": "209c3ada",
   "metadata": {},
   "outputs": [
    {
     "name": "stdout",
     "output_type": "stream",
     "text": [
      "Kolom : Date\n",
      "Total nilai null: 0\n",
      "Total data: 0\n",
      "Persentase missing value: 0.00%\n",
      "\n",
      "Kolom : Location\n",
      "Total nilai null: 0\n",
      "Total data: 0\n",
      "Persentase missing value: 0.00%\n",
      "\n",
      "Kolom : MinTemp\n",
      "Total nilai null: 1485\n",
      "Total data: 1485\n",
      "Persentase missing value: 1.02%\n",
      "\n",
      "Kolom : MaxTemp\n",
      "Total nilai null: 1261\n",
      "Total data: 1261\n",
      "Persentase missing value: 0.87%\n",
      "\n",
      "Kolom : Rainfall\n",
      "Total nilai null: 3261\n",
      "Total data: 3261\n",
      "Persentase missing value: 2.24%\n",
      "\n",
      "Kolom : Evaporation\n",
      "Total nilai null: 62790\n",
      "Total data: 62790\n",
      "Persentase missing value: 43.17%\n",
      "\n",
      "Kolom : Sunshine\n",
      "Total nilai null: 69835\n",
      "Total data: 69835\n",
      "Persentase missing value: 48.01%\n",
      "\n",
      "Kolom : WindGustDir\n",
      "Total nilai null: 10326\n",
      "Total data: 10326\n",
      "Persentase missing value: 7.10%\n",
      "\n",
      "Kolom : WindGustSpeed\n",
      "Total nilai null: 10263\n",
      "Total data: 10263\n",
      "Persentase missing value: 7.06%\n",
      "\n",
      "Kolom : WindDir9am\n",
      "Total nilai null: 10566\n",
      "Total data: 10566\n",
      "Persentase missing value: 7.26%\n",
      "\n",
      "Kolom : WindDir3pm\n",
      "Total nilai null: 4228\n",
      "Total data: 4228\n",
      "Persentase missing value: 2.91%\n",
      "\n",
      "Kolom : WindSpeed9am\n",
      "Total nilai null: 1767\n",
      "Total data: 1767\n",
      "Persentase missing value: 1.21%\n",
      "\n",
      "Kolom : WindSpeed3pm\n",
      "Total nilai null: 3062\n",
      "Total data: 3062\n",
      "Persentase missing value: 2.11%\n",
      "\n",
      "Kolom : Humidity9am\n",
      "Total nilai null: 2654\n",
      "Total data: 2654\n",
      "Persentase missing value: 1.82%\n",
      "\n",
      "Kolom : Humidity3pm\n",
      "Total nilai null: 4507\n",
      "Total data: 4507\n",
      "Persentase missing value: 3.10%\n",
      "\n",
      "Kolom : Pressure9am\n",
      "Total nilai null: 15065\n",
      "Total data: 15065\n",
      "Persentase missing value: 10.36%\n",
      "\n",
      "Kolom : Pressure3pm\n",
      "Total nilai null: 15028\n",
      "Total data: 15028\n",
      "Persentase missing value: 10.33%\n",
      "\n",
      "Kolom : Cloud9am\n",
      "Total nilai null: 55888\n",
      "Total data: 55888\n",
      "Persentase missing value: 38.42%\n",
      "\n",
      "Kolom : Cloud3pm\n",
      "Total nilai null: 59358\n",
      "Total data: 59358\n",
      "Persentase missing value: 40.81%\n",
      "\n",
      "Kolom : Temp9am\n",
      "Total nilai null: 1767\n",
      "Total data: 1767\n",
      "Persentase missing value: 1.21%\n",
      "\n",
      "Kolom : Temp3pm\n",
      "Total nilai null: 3609\n",
      "Total data: 3609\n",
      "Persentase missing value: 2.48%\n",
      "\n",
      "Kolom : RainToday\n",
      "Total nilai null: 3261\n",
      "Total data: 3261\n",
      "Persentase missing value: 2.24%\n",
      "\n",
      "Kolom : RainTomorrow\n",
      "Total nilai null: 3267\n",
      "Total data: 3267\n",
      "Persentase missing value: 2.25%\n",
      "\n"
     ]
    }
   ],
   "source": [
    "for column in data_weather.columns:\n",
    "    total_null = data_weather[column].isnull().sum()\n",
    "    total_data = len(data_weather[column])\n",
    "    percent_missing = (total_null / total_data) * 100\n",
    "    \n",
    "    print(f\"Kolom : {column}\")\n",
    "    print(f\"Total nilai null: {total_null}\")\n",
    "    print(f\"Total data: {total_null}\")\n",
    "    print(f\"Persentase missing value: {percent_missing:.2f}%\")\n",
    "    print('')"
   ]
  },
  {
   "cell_type": "markdown",
   "id": "3e0c059e",
   "metadata": {},
   "source": [
    "## D.2. Pengecekan data duplikat\n",
    "\n",
    "Mengecek data duplikat pada keseluruhan data frame."
   ]
  },
  {
   "cell_type": "code",
   "execution_count": 10,
   "id": "922af6e1",
   "metadata": {},
   "outputs": [
    {
     "data": {
      "text/plain": [
       "0"
      ]
     },
     "execution_count": 10,
     "metadata": {},
     "output_type": "execute_result"
    }
   ],
   "source": [
    "data_weather.duplicated().sum()"
   ]
  },
  {
   "cell_type": "markdown",
   "id": "41f243f4",
   "metadata": {},
   "source": [
    "## D.3. Mengubah tipe data datetime\n",
    "\n",
    "Mengubah tipe data datetime dari object menjadi datetime."
   ]
  },
  {
   "cell_type": "code",
   "execution_count": 11,
   "id": "27f2e7fa",
   "metadata": {},
   "outputs": [],
   "source": [
    "data_weather['Date']=pd.to_datetime(data_weather['Date'])"
   ]
  },
  {
   "cell_type": "markdown",
   "id": "a273c015",
   "metadata": {},
   "source": [
    "Mengecek kembali tipe data"
   ]
  },
  {
   "cell_type": "code",
   "execution_count": 12,
   "id": "f18a68ce",
   "metadata": {},
   "outputs": [
    {
     "name": "stdout",
     "output_type": "stream",
     "text": [
      "<class 'pandas.core.frame.DataFrame'>\n",
      "RangeIndex: 145460 entries, 0 to 145459\n",
      "Data columns (total 23 columns):\n",
      " #   Column         Non-Null Count   Dtype         \n",
      "---  ------         --------------   -----         \n",
      " 0   Date           145460 non-null  datetime64[ns]\n",
      " 1   Location       145460 non-null  object        \n",
      " 2   MinTemp        143975 non-null  float64       \n",
      " 3   MaxTemp        144199 non-null  float64       \n",
      " 4   Rainfall       142199 non-null  float64       \n",
      " 5   Evaporation    82670 non-null   float64       \n",
      " 6   Sunshine       75625 non-null   float64       \n",
      " 7   WindGustDir    135134 non-null  object        \n",
      " 8   WindGustSpeed  135197 non-null  float64       \n",
      " 9   WindDir9am     134894 non-null  object        \n",
      " 10  WindDir3pm     141232 non-null  object        \n",
      " 11  WindSpeed9am   143693 non-null  float64       \n",
      " 12  WindSpeed3pm   142398 non-null  float64       \n",
      " 13  Humidity9am    142806 non-null  float64       \n",
      " 14  Humidity3pm    140953 non-null  float64       \n",
      " 15  Pressure9am    130395 non-null  float64       \n",
      " 16  Pressure3pm    130432 non-null  float64       \n",
      " 17  Cloud9am       89572 non-null   float64       \n",
      " 18  Cloud3pm       86102 non-null   float64       \n",
      " 19  Temp9am        143693 non-null  float64       \n",
      " 20  Temp3pm        141851 non-null  float64       \n",
      " 21  RainToday      142199 non-null  object        \n",
      " 22  RainTomorrow   142193 non-null  object        \n",
      "dtypes: datetime64[ns](1), float64(16), object(6)\n",
      "memory usage: 25.5+ MB\n"
     ]
    }
   ],
   "source": [
    "data_weather.info()"
   ]
  },
  {
   "cell_type": "markdown",
   "id": "29b242fa",
   "metadata": {},
   "source": [
    "**Keterangan** <br>\n",
    "Dari 23 kolom, ada 4 kolom yang memiliki persentase missing value paling tinggi (> 30%). Diantaranya adalah Evaporation, Sunshine, Cloud9am, dan Cloud3pm. Oleh karena itu, kolom-kolom tersebut akan dihapuskan pada proses data cleaning."
   ]
  },
  {
   "cell_type": "markdown",
   "id": "5c055e08",
   "metadata": {},
   "source": [
    "## D.4. Data Cleaning \n",
    "\n",
    "Data cleaning (pembersihan data) adalah proses mengidentifikasi, mengkoreksi, dan menghapus kesalahan, ketidakcocokan, atau ketidaksesuaian dalam dataset agar data tersebut dapat digunakan dengan akurat dan andal dalam analisis, pemodelan, atau keperluan lainnya. Data cleaning adalah langkah penting dalam analisis data dan pengolahan data karena data yang tidak bersih atau cacat dapat menghasilkan hasil yang tidak benar dan tidak dapat diandalkan. "
   ]
  },
  {
   "cell_type": "markdown",
   "id": "3cd0b7a9",
   "metadata": {},
   "source": [
    "Menghapus column yang >30% missing valuenya"
   ]
  },
  {
   "cell_type": "code",
   "execution_count": 13,
   "id": "eabbc20c",
   "metadata": {},
   "outputs": [
    {
     "data": {
      "text/html": [
       "<div>\n",
       "<style scoped>\n",
       "    .dataframe tbody tr th:only-of-type {\n",
       "        vertical-align: middle;\n",
       "    }\n",
       "\n",
       "    .dataframe tbody tr th {\n",
       "        vertical-align: top;\n",
       "    }\n",
       "\n",
       "    .dataframe thead th {\n",
       "        text-align: right;\n",
       "    }\n",
       "</style>\n",
       "<table border=\"1\" class=\"dataframe\">\n",
       "  <thead>\n",
       "    <tr style=\"text-align: right;\">\n",
       "      <th></th>\n",
       "      <th>Date</th>\n",
       "      <th>Location</th>\n",
       "      <th>MinTemp</th>\n",
       "      <th>MaxTemp</th>\n",
       "      <th>Rainfall</th>\n",
       "      <th>WindGustDir</th>\n",
       "      <th>WindGustSpeed</th>\n",
       "      <th>WindDir9am</th>\n",
       "      <th>WindDir3pm</th>\n",
       "      <th>WindSpeed9am</th>\n",
       "      <th>WindSpeed3pm</th>\n",
       "      <th>Humidity9am</th>\n",
       "      <th>Humidity3pm</th>\n",
       "      <th>Pressure9am</th>\n",
       "      <th>Pressure3pm</th>\n",
       "      <th>Temp9am</th>\n",
       "      <th>Temp3pm</th>\n",
       "      <th>RainToday</th>\n",
       "      <th>RainTomorrow</th>\n",
       "    </tr>\n",
       "  </thead>\n",
       "  <tbody>\n",
       "    <tr>\n",
       "      <th>0</th>\n",
       "      <td>2008-12-01</td>\n",
       "      <td>Albury</td>\n",
       "      <td>13.4</td>\n",
       "      <td>22.9</td>\n",
       "      <td>0.6</td>\n",
       "      <td>W</td>\n",
       "      <td>44.0</td>\n",
       "      <td>W</td>\n",
       "      <td>WNW</td>\n",
       "      <td>20.0</td>\n",
       "      <td>24.0</td>\n",
       "      <td>71.0</td>\n",
       "      <td>22.0</td>\n",
       "      <td>1007.7</td>\n",
       "      <td>1007.1</td>\n",
       "      <td>16.9</td>\n",
       "      <td>21.8</td>\n",
       "      <td>No</td>\n",
       "      <td>No</td>\n",
       "    </tr>\n",
       "    <tr>\n",
       "      <th>1</th>\n",
       "      <td>2008-12-02</td>\n",
       "      <td>Albury</td>\n",
       "      <td>7.4</td>\n",
       "      <td>25.1</td>\n",
       "      <td>0.0</td>\n",
       "      <td>WNW</td>\n",
       "      <td>44.0</td>\n",
       "      <td>NNW</td>\n",
       "      <td>WSW</td>\n",
       "      <td>4.0</td>\n",
       "      <td>22.0</td>\n",
       "      <td>44.0</td>\n",
       "      <td>25.0</td>\n",
       "      <td>1010.6</td>\n",
       "      <td>1007.8</td>\n",
       "      <td>17.2</td>\n",
       "      <td>24.3</td>\n",
       "      <td>No</td>\n",
       "      <td>No</td>\n",
       "    </tr>\n",
       "    <tr>\n",
       "      <th>2</th>\n",
       "      <td>2008-12-03</td>\n",
       "      <td>Albury</td>\n",
       "      <td>12.9</td>\n",
       "      <td>25.7</td>\n",
       "      <td>0.0</td>\n",
       "      <td>WSW</td>\n",
       "      <td>46.0</td>\n",
       "      <td>W</td>\n",
       "      <td>WSW</td>\n",
       "      <td>19.0</td>\n",
       "      <td>26.0</td>\n",
       "      <td>38.0</td>\n",
       "      <td>30.0</td>\n",
       "      <td>1007.6</td>\n",
       "      <td>1008.7</td>\n",
       "      <td>21.0</td>\n",
       "      <td>23.2</td>\n",
       "      <td>No</td>\n",
       "      <td>No</td>\n",
       "    </tr>\n",
       "    <tr>\n",
       "      <th>3</th>\n",
       "      <td>2008-12-04</td>\n",
       "      <td>Albury</td>\n",
       "      <td>9.2</td>\n",
       "      <td>28.0</td>\n",
       "      <td>0.0</td>\n",
       "      <td>NE</td>\n",
       "      <td>24.0</td>\n",
       "      <td>SE</td>\n",
       "      <td>E</td>\n",
       "      <td>11.0</td>\n",
       "      <td>9.0</td>\n",
       "      <td>45.0</td>\n",
       "      <td>16.0</td>\n",
       "      <td>1017.6</td>\n",
       "      <td>1012.8</td>\n",
       "      <td>18.1</td>\n",
       "      <td>26.5</td>\n",
       "      <td>No</td>\n",
       "      <td>No</td>\n",
       "    </tr>\n",
       "    <tr>\n",
       "      <th>4</th>\n",
       "      <td>2008-12-05</td>\n",
       "      <td>Albury</td>\n",
       "      <td>17.5</td>\n",
       "      <td>32.3</td>\n",
       "      <td>1.0</td>\n",
       "      <td>W</td>\n",
       "      <td>41.0</td>\n",
       "      <td>ENE</td>\n",
       "      <td>NW</td>\n",
       "      <td>7.0</td>\n",
       "      <td>20.0</td>\n",
       "      <td>82.0</td>\n",
       "      <td>33.0</td>\n",
       "      <td>1010.8</td>\n",
       "      <td>1006.0</td>\n",
       "      <td>17.8</td>\n",
       "      <td>29.7</td>\n",
       "      <td>No</td>\n",
       "      <td>No</td>\n",
       "    </tr>\n",
       "  </tbody>\n",
       "</table>\n",
       "</div>"
      ],
      "text/plain": [
       "        Date Location  MinTemp  MaxTemp  Rainfall WindGustDir  WindGustSpeed  \\\n",
       "0 2008-12-01   Albury     13.4     22.9       0.6           W           44.0   \n",
       "1 2008-12-02   Albury      7.4     25.1       0.0         WNW           44.0   \n",
       "2 2008-12-03   Albury     12.9     25.7       0.0         WSW           46.0   \n",
       "3 2008-12-04   Albury      9.2     28.0       0.0          NE           24.0   \n",
       "4 2008-12-05   Albury     17.5     32.3       1.0           W           41.0   \n",
       "\n",
       "  WindDir9am WindDir3pm  WindSpeed9am  WindSpeed3pm  Humidity9am  Humidity3pm  \\\n",
       "0          W        WNW          20.0          24.0         71.0         22.0   \n",
       "1        NNW        WSW           4.0          22.0         44.0         25.0   \n",
       "2          W        WSW          19.0          26.0         38.0         30.0   \n",
       "3         SE          E          11.0           9.0         45.0         16.0   \n",
       "4        ENE         NW           7.0          20.0         82.0         33.0   \n",
       "\n",
       "   Pressure9am  Pressure3pm  Temp9am  Temp3pm RainToday RainTomorrow  \n",
       "0       1007.7       1007.1     16.9     21.8        No           No  \n",
       "1       1010.6       1007.8     17.2     24.3        No           No  \n",
       "2       1007.6       1008.7     21.0     23.2        No           No  \n",
       "3       1017.6       1012.8     18.1     26.5        No           No  \n",
       "4       1010.8       1006.0     17.8     29.7        No           No  "
      ]
     },
     "execution_count": 13,
     "metadata": {},
     "output_type": "execute_result"
    }
   ],
   "source": [
    "data_weather.drop([\"Evaporation\",\"Sunshine\",\"Cloud9am\",\"Cloud3pm\"],axis=1, inplace=True)\n",
    "data_weather.head()"
   ]
  },
  {
   "cell_type": "markdown",
   "id": "a7c99ac4",
   "metadata": {},
   "source": [
    "Mengecek column nya kembali"
   ]
  },
  {
   "cell_type": "code",
   "execution_count": 15,
   "id": "8dc2a586",
   "metadata": {},
   "outputs": [
    {
     "data": {
      "text/plain": [
       "(145460, 19)"
      ]
     },
     "execution_count": 15,
     "metadata": {},
     "output_type": "execute_result"
    }
   ],
   "source": [
    "data_weather.shape"
   ]
  },
  {
   "cell_type": "markdown",
   "id": "6ca46285",
   "metadata": {},
   "source": [
    "Mengecek Missing Values"
   ]
  },
  {
   "cell_type": "code",
   "execution_count": 17,
   "id": "423d6f5f",
   "metadata": {},
   "outputs": [
    {
     "data": {
      "text/plain": [
       "Date                 0\n",
       "Location             0\n",
       "MinTemp           1485\n",
       "MaxTemp           1261\n",
       "Rainfall          3261\n",
       "WindGustDir      10326\n",
       "WindGustSpeed    10263\n",
       "WindDir9am       10566\n",
       "WindDir3pm        4228\n",
       "WindSpeed9am      1767\n",
       "WindSpeed3pm      3062\n",
       "Humidity9am       2654\n",
       "Humidity3pm       4507\n",
       "Pressure9am      15065\n",
       "Pressure3pm      15028\n",
       "Temp9am           1767\n",
       "Temp3pm           3609\n",
       "RainToday         3261\n",
       "RainTomorrow      3267\n",
       "dtype: int64"
      ]
     },
     "execution_count": 17,
     "metadata": {},
     "output_type": "execute_result"
    }
   ],
   "source": [
    "data_weather.isna().sum()"
   ]
  },
  {
   "cell_type": "markdown",
   "id": "00473400",
   "metadata": {},
   "source": [
    "Ternyata ada banyak missing value pada kolom-kolom yang ada pada dataset tersebut. Pada data cleaning akan menggunakan metode fillna dengan median untuk tipe data integer atau float, dan fillna dengan modus untuk tipe data object."
   ]
  },
  {
   "cell_type": "code",
   "execution_count": 19,
   "id": "96372205",
   "metadata": {},
   "outputs": [
    {
     "name": "stdout",
     "output_type": "stream",
     "text": [
      "<class 'pandas.core.frame.DataFrame'>\n",
      "RangeIndex: 145460 entries, 0 to 145459\n",
      "Data columns (total 19 columns):\n",
      " #   Column         Non-Null Count   Dtype         \n",
      "---  ------         --------------   -----         \n",
      " 0   Date           145460 non-null  datetime64[ns]\n",
      " 1   Location       145460 non-null  object        \n",
      " 2   MinTemp        143975 non-null  float64       \n",
      " 3   MaxTemp        144199 non-null  float64       \n",
      " 4   Rainfall       142199 non-null  float64       \n",
      " 5   WindGustDir    135134 non-null  object        \n",
      " 6   WindGustSpeed  135197 non-null  float64       \n",
      " 7   WindDir9am     134894 non-null  object        \n",
      " 8   WindDir3pm     141232 non-null  object        \n",
      " 9   WindSpeed9am   143693 non-null  float64       \n",
      " 10  WindSpeed3pm   142398 non-null  float64       \n",
      " 11  Humidity9am    142806 non-null  float64       \n",
      " 12  Humidity3pm    140953 non-null  float64       \n",
      " 13  Pressure9am    130395 non-null  float64       \n",
      " 14  Pressure3pm    130432 non-null  float64       \n",
      " 15  Temp9am        143693 non-null  float64       \n",
      " 16  Temp3pm        141851 non-null  float64       \n",
      " 17  RainToday      142199 non-null  object        \n",
      " 18  RainTomorrow   142193 non-null  object        \n",
      "dtypes: datetime64[ns](1), float64(12), object(6)\n",
      "memory usage: 21.1+ MB\n"
     ]
    }
   ],
   "source": [
    "data_weather.info()"
   ]
  },
  {
   "cell_type": "markdown",
   "id": "7454432f",
   "metadata": {},
   "source": [
    "Mengisi missing values tipe data float menggunakan median"
   ]
  },
  {
   "cell_type": "code",
   "execution_count": 21,
   "id": "5d1a2e5d",
   "metadata": {},
   "outputs": [],
   "source": [
    "numeric_columns = ['MinTemp', 'MaxTemp', 'Rainfall', 'WindGustSpeed', \n",
    "                   'WindSpeed9am', 'WindSpeed3pm','Humidity9am', 'Humidity3pm',\n",
    "                   'Pressure9am', 'Pressure3pm', 'Temp9am', 'Temp3pm']\n",
    "for column in numeric_columns:\n",
    "    median_value = data_weather[column].median()\n",
    "    data_weather[column].fillna(median_value, inplace=True)"
   ]
  },
  {
   "cell_type": "code",
   "execution_count": null,
   "id": "1bd97bc0",
   "metadata": {},
   "outputs": [],
   "source": [
    "# Mengisi missing value pada kolom categorical dengan data yang paling sering\n",
    "categorical_columns = ['WindGustDir', 'WindDir9am', 'WindDir3pm', 'RainToday']\n",
    "\n",
    "for column in categorical_columns:\n",
    "    mode_value = data_weathers[column].mode().values[0]\n",
    "    data_weathers[column].fillna(mode_value, inplace=True)"
   ]
  },
  {
   "cell_type": "code",
   "execution_count": null,
   "id": "5b0e617e",
   "metadata": {},
   "outputs": [],
   "source": []
  },
  {
   "cell_type": "code",
   "execution_count": null,
   "id": "52286b4a",
   "metadata": {},
   "outputs": [],
   "source": []
  },
  {
   "cell_type": "code",
   "execution_count": null,
   "id": "68a576e9",
   "metadata": {},
   "outputs": [],
   "source": []
  },
  {
   "cell_type": "code",
   "execution_count": null,
   "id": "b159b7e8",
   "metadata": {},
   "outputs": [],
   "source": []
  },
  {
   "cell_type": "code",
   "execution_count": null,
   "id": "4c66a6a7",
   "metadata": {},
   "outputs": [],
   "source": []
  },
  {
   "cell_type": "code",
   "execution_count": null,
   "id": "83186bc2",
   "metadata": {},
   "outputs": [],
   "source": []
  },
  {
   "cell_type": "code",
   "execution_count": null,
   "id": "ff20945e",
   "metadata": {},
   "outputs": [],
   "source": []
  },
  {
   "cell_type": "code",
   "execution_count": null,
   "id": "13093752",
   "metadata": {},
   "outputs": [],
   "source": []
  },
  {
   "cell_type": "code",
   "execution_count": null,
   "id": "29a79544",
   "metadata": {},
   "outputs": [],
   "source": []
  },
  {
   "cell_type": "code",
   "execution_count": null,
   "id": "ae75e5c6",
   "metadata": {},
   "outputs": [],
   "source": []
  },
  {
   "cell_type": "code",
   "execution_count": null,
   "id": "46ccecb9",
   "metadata": {},
   "outputs": [],
   "source": []
  },
  {
   "cell_type": "code",
   "execution_count": null,
   "id": "10db546f",
   "metadata": {},
   "outputs": [],
   "source": [
    "# Mengisi missing value pada kolom numeric\n",
    "numeric_columns = ['MinTemp', 'MaxTemp', 'Rainfall', 'WindGustSpeed', \n",
    "                   'WindSpeed9am', 'WindSpeed3pm','Humidity9am', 'Humidity3pm',\n",
    "                   'Pressure9am', 'Pressure3pm', 'Temp9am', 'Temp3pm']\n",
    "for column in numeric_columns:\n",
    "    median_value = data_weathers[column].median()\n",
    "    data_weathers[column].fillna(median_value, inplace=True)"
   ]
  },
  {
   "cell_type": "code",
   "execution_count": null,
   "id": "53510b11",
   "metadata": {},
   "outputs": [],
   "source": [
    "# Mengisi missing value pada kolom categorical dengan data yang paling sering\n",
    "categorical_columns = ['WindGustDir', 'WindDir9am', 'WindDir3pm', 'RainToday',\n",
    "                       'RainTomorrow']\n",
    "\n",
    "for column in categorical_columns:\n",
    "    mode_value = data_weathers[column].mode().values[0]\n",
    "    data_weathers[column].fillna(mode_value, inplace=True)"
   ]
  },
  {
   "cell_type": "code",
   "execution_count": null,
   "id": "4726c868",
   "metadata": {},
   "outputs": [],
   "source": [
    "data_weathers.isna().sum()"
   ]
  },
  {
   "cell_type": "markdown",
   "id": "36f44f01",
   "metadata": {},
   "source": [
    "## mengecek data duplikat"
   ]
  },
  {
   "cell_type": "code",
   "execution_count": null,
   "id": "83db6e9c",
   "metadata": {},
   "outputs": [],
   "source": [
    "data_weathers.duplicated().sum()"
   ]
  },
  {
   "cell_type": "markdown",
   "id": "ee38f8b0",
   "metadata": {},
   "source": [
    "## Mengubah Tipe Data "
   ]
  },
  {
   "cell_type": "code",
   "execution_count": null,
   "id": "05c0d3c4",
   "metadata": {},
   "outputs": [],
   "source": [
    "data_weathers['Date']=pd.to_datetime(data_weather['Date'])"
   ]
  },
  {
   "cell_type": "code",
   "execution_count": null,
   "id": "729b45dc",
   "metadata": {},
   "outputs": [],
   "source": [
    "data_weathers.info()"
   ]
  },
  {
   "cell_type": "code",
   "execution_count": null,
   "id": "60ab4672",
   "metadata": {
    "scrolled": true
   },
   "outputs": [],
   "source": [
    "data_weathers"
   ]
  },
  {
   "cell_type": "markdown",
   "id": "ea6fda74",
   "metadata": {},
   "source": [
    "# Explorasi Data"
   ]
  },
  {
   "cell_type": "markdown",
   "id": "f70be21e",
   "metadata": {},
   "source": [
    "## Visualisasi Data"
   ]
  },
  {
   "cell_type": "markdown",
   "id": "bdd2ef67",
   "metadata": {},
   "source": [
    "### Melihat Temperature Tertinggi berdasarkan rata location"
   ]
  },
  {
   "cell_type": "code",
   "execution_count": null,
   "id": "af3d8673",
   "metadata": {},
   "outputs": [],
   "source": [
    "weather_max = data_weathers.groupby('Location')['MaxTemp'].mean().reset_index()"
   ]
  },
  {
   "cell_type": "code",
   "execution_count": null,
   "id": "2110466b",
   "metadata": {},
   "outputs": [],
   "source": [
    "weather_max.sort_values(['MaxTemp'], ascending=False, axis=0, inplace=True)\n",
    "Top5_maxtemp = weather_max.head()\n",
    "Top5_maxtemp"
   ]
  },
  {
   "cell_type": "code",
   "execution_count": null,
   "id": "df76771a",
   "metadata": {},
   "outputs": [],
   "source": [
    "sns.set(rc={'figure.figsize':(12,6)})\n",
    "sns.barplot(x='Location', y='MaxTemp', data=Top5_maxtemp)"
   ]
  },
  {
   "cell_type": "markdown",
   "id": "d2472471",
   "metadata": {},
   "source": [
    "### Melihat Persentase Hujan Hari atau Tidak Hujan hari ini"
   ]
  },
  {
   "cell_type": "code",
   "execution_count": null,
   "id": "b9a187d5",
   "metadata": {},
   "outputs": [],
   "source": [
    "data_weathers['RainToday'].value_counts().plot(kind='bar', figsize=(12, 6))"
   ]
  },
  {
   "cell_type": "code",
   "execution_count": null,
   "id": "3435d295",
   "metadata": {},
   "outputs": [],
   "source": [
    "# menghitung jumlah hari hujan dan tidak hujan\n",
    "hari_hujan = data_weathers[data_weathers['RainToday'] == 'Yes'].shape[0]\n",
    "hari_tidakhujan = data_weathers[data_weathers['RainToday'] == 'No'].shape[0]\n",
    "\n",
    "# membuat labels dan sizes untuk pie chart\n",
    "labels = ['Hujan', 'Tidak Hujan']\n",
    "sizes = [hari_hujan, hari_tidakhujan]\n",
    "\n",
    "# membuat pie chart\n",
    "plt.figure(figsize=(6, 6))\n",
    "plt.pie(sizes, labels=labels, autopct='%1.1f%%', startangle=90)\n",
    "plt.title('Persentase Hari ini Hujan dan Tidak Hujan')\n",
    "plt.axis('equal')\n",
    "plt.show()"
   ]
  },
  {
   "cell_type": "markdown",
   "id": "13764170",
   "metadata": {},
   "source": [
    "## Measure of Central Tendency & Measure of Spread"
   ]
  },
  {
   "cell_type": "code",
   "execution_count": null,
   "id": "61687c14",
   "metadata": {},
   "outputs": [],
   "source": [
    "data_measure = data_weathers.loc[:, ['MinTemp', 'MaxTemp','Rainfall','Humidity9am','Humidity3pm']]\n",
    "data_measure.head()"
   ]
  },
  {
   "cell_type": "code",
   "execution_count": null,
   "id": "2065524e",
   "metadata": {},
   "outputs": [],
   "source": [
    "#Menghitung mean, median, modus, range, variansi, dan Standard Deviasi\n",
    "for column in data_measure:\n",
    "    mean = data_measure[column].mean()\n",
    "    median = data_measure[column].median()\n",
    "    mode = data_measure[column].mode()[0]\n",
    "    min_value = data_measure[column].min()\n",
    "    max_value = data_measure[column].max()\n",
    "    range_value = max_value - min_value\n",
    "    variance = data_measure[column].var()\n",
    "    std_dev = data_measure[column].std()\n",
    "    \n",
    "#Print hasilnya\n",
    "    print(f\"Nama Kolom: {column}\")\n",
    "    print(f\"Mean: {mean:.3f}\")\n",
    "    print(f\"Median: {median:.3f}\")\n",
    "    print(f\"Modus: {mode:.3f}\")\n",
    "    print(f\"Range: {range_value:.3f}\")\n",
    "    print(f\"Variansi: {variance:.3f}\")\n",
    "    print(f\"Standard Deviasi: {std_dev:.3f}\")\n",
    "    print(\"  \")"
   ]
  },
  {
   "cell_type": "markdown",
   "id": "e72dcc08",
   "metadata": {},
   "source": [
    "# Data Preprocessing"
   ]
  },
  {
   "cell_type": "markdown",
   "id": "454e921a",
   "metadata": {},
   "source": [
    "## Analysis Korelasi"
   ]
  },
  {
   "cell_type": "code",
   "execution_count": null,
   "id": "7d75832e",
   "metadata": {},
   "outputs": [],
   "source": [
    "data_cor = data_weathers.loc[:, ['Date', 'Location', 'MinTemp', 'MaxTemp',\n",
    "                                 'Rainfall','Humidity9am', 'Humidity3pm',\n",
    "                                 'Pressure9am', 'Pressure3pm', 'Temp9am',\n",
    "                                 'Temp3pm', 'RainToday', 'RainTomorrow']]\n",
    "data_cor.head()"
   ]
  },
  {
   "cell_type": "code",
   "execution_count": null,
   "id": "7fa84026",
   "metadata": {},
   "outputs": [],
   "source": [
    "label_encoder = preprocessing.LabelEncoder()"
   ]
  },
  {
   "cell_type": "code",
   "execution_count": null,
   "id": "b742a15c",
   "metadata": {},
   "outputs": [],
   "source": [
    "df_category = data_weathers.select_dtypes(include='object')\n",
    "df_encoder = data_weathers.copy()\n",
    "for column in df_category.columns :\n",
    "    df_encoder[column] = label_encoder.fit_transform(data_weathers[column])"
   ]
  },
  {
   "cell_type": "code",
   "execution_count": null,
   "id": "2eb7bbcb",
   "metadata": {},
   "outputs": [],
   "source": [
    "df_encoder"
   ]
  },
  {
   "cell_type": "code",
   "execution_count": null,
   "id": "165d1786",
   "metadata": {},
   "outputs": [],
   "source": [
    "# Membuat fungsi heat_map dengan 2 parameter\n",
    "# nama df adalah nama datasetnya, list kolom adalah list korelasi yang ingin di cek\n",
    "def heat_map(nama_df,list_kolom): \n",
    "    df_heatmap = nama_df[list_kolom] #Memasukkan data kolom tersebut kedalam variabel baru\n",
    "    plt.figure(figsize=(20,23)) #Mengatur ukuran\n",
    "    \n",
    "    #Membuat heat map dengan menampilkan nilai dari korelasi\n",
    "    sns.heatmap(df_heatmap.corr(), \n",
    "                annot=True, \n",
    "                cmap=\"Reds\", \n",
    "                linewidths=.5, \n",
    "                linecolor='black', \n",
    "                square=True) "
   ]
  },
  {
   "cell_type": "code",
   "execution_count": null,
   "id": "2f8a6390",
   "metadata": {
    "scrolled": true
   },
   "outputs": [],
   "source": [
    "heat_map_models = ['Location', 'MinTemp', 'MaxTemp','Rainfall',\n",
    "                   'Humidity9am', 'Humidity3pm','Pressure9am', 'Pressure3pm',\n",
    "                   'Temp9am','Temp3pm','RainToday','RainTomorrow']\n",
    "heat_map(df_encoder, heat_map_models)"
   ]
  },
  {
   "cell_type": "markdown",
   "id": "95b2829d",
   "metadata": {},
   "source": [
    "## Feature Scaling"
   ]
  },
  {
   "cell_type": "code",
   "execution_count": null,
   "id": "4087c7c3",
   "metadata": {},
   "outputs": [],
   "source": [
    "df_encoder.describe()"
   ]
  },
  {
   "cell_type": "code",
   "execution_count": null,
   "id": "4640afa4",
   "metadata": {},
   "outputs": [],
   "source": [
    "df_encoder = pd.get_dummies(df_encoder)\n",
    "df_encoder"
   ]
  },
  {
   "cell_type": "code",
   "execution_count": null,
   "id": "1a4fed2b",
   "metadata": {},
   "outputs": [],
   "source": [
    "scaler = StandardScaler()\n",
    "df_scaler = df_encoder.drop(['Date', 'RainTomorrow'], axis=1)"
   ]
  },
  {
   "cell_type": "code",
   "execution_count": null,
   "id": "de5fa58d",
   "metadata": {},
   "outputs": [],
   "source": [
    "X = scaler.fit_transform(df_scaler)\n",
    "y = df_encoder['RainTomorrow']"
   ]
  },
  {
   "cell_type": "code",
   "execution_count": null,
   "id": "5f1d8eab",
   "metadata": {},
   "outputs": [],
   "source": [
    "X_train, X_test, y_train, y_test = train_test_split(X, y, test_size = 0.3, random_state=0)\n",
    "X_train.shape, X_test.shape, y_train.shape, y_test.shape"
   ]
  },
  {
   "cell_type": "code",
   "execution_count": null,
   "id": "c868bbce",
   "metadata": {},
   "outputs": [],
   "source": [
    "X_train = scaler.fit_transform(X_train)\n",
    "X_test = scaler.fit_transform(X_test)"
   ]
  },
  {
   "cell_type": "code",
   "execution_count": null,
   "id": "df7d36c6",
   "metadata": {},
   "outputs": [],
   "source": [
    "logisticregression = LogisticRegression()\n",
    "svm = SVC()"
   ]
  },
  {
   "cell_type": "code",
   "execution_count": null,
   "id": "4cfae51b",
   "metadata": {},
   "outputs": [],
   "source": [
    "logisticregression.fit(X_train, y_train)"
   ]
  },
  {
   "cell_type": "code",
   "execution_count": null,
   "id": "7849b2d2",
   "metadata": {},
   "outputs": [],
   "source": [
    "y_pred_log = logisticregression.predict(X_test)\n",
    "y_pred_log"
   ]
  },
  {
   "cell_type": "code",
   "execution_count": null,
   "id": "04b1a30e",
   "metadata": {},
   "outputs": [],
   "source": [
    "print('Nilai akurasi Model Logistic Regression: ', accuracy_score(y_test, y_pred_log))"
   ]
  },
  {
   "cell_type": "code",
   "execution_count": null,
   "id": "02833f98",
   "metadata": {},
   "outputs": [],
   "source": [
    "report = classification_report(y_test, y_pred_log)\n",
    "print(report)"
   ]
  },
  {
   "cell_type": "code",
   "execution_count": null,
   "id": "55ee805a",
   "metadata": {},
   "outputs": [],
   "source": [
    "cm_logreg = confusion_matrix(y_test, y_pred_log)\n",
    "print(cm_logreg)"
   ]
  },
  {
   "cell_type": "code",
   "execution_count": null,
   "id": "0a57b670",
   "metadata": {},
   "outputs": [],
   "source": []
  }
 ],
 "metadata": {
  "kernelspec": {
   "display_name": "Python 3 (ipykernel)",
   "language": "python",
   "name": "python3"
  },
  "language_info": {
   "codemirror_mode": {
    "name": "ipython",
    "version": 3
   },
   "file_extension": ".py",
   "mimetype": "text/x-python",
   "name": "python",
   "nbconvert_exporter": "python",
   "pygments_lexer": "ipython3",
   "version": "3.9.13"
  },
  "toc": {
   "base_numbering": 1,
   "nav_menu": {},
   "number_sections": true,
   "sideBar": true,
   "skip_h1_title": false,
   "title_cell": "Table of Contents",
   "title_sidebar": "Contents",
   "toc_cell": false,
   "toc_position": {},
   "toc_section_display": true,
   "toc_window_display": false
  }
 },
 "nbformat": 4,
 "nbformat_minor": 5
}
